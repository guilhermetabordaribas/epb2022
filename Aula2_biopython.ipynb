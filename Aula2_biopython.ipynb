{
  "nbformat": 4,
  "nbformat_minor": 0,
  "metadata": {
    "colab": {
      "name": "aula2_biopython.ipynb",
      "provenance": [],
      "collapsed_sections": []
    },
    "kernelspec": {
      "name": "python3",
      "display_name": "Python 3"
    },
    "language_info": {
      "name": "python"
    }
  },
  "cells": [
    {
      "cell_type": "code",
      "execution_count": 2,
      "metadata": {
        "colab": {
          "base_uri": "https://localhost:8080/"
        },
        "id": "InW8N3TD9T_h",
        "outputId": "dfad3174-88e0-412a-936e-0f724a6fe1ee"
      },
      "outputs": [
        {
          "output_type": "stream",
          "name": "stdout",
          "text": [
            "Looking in indexes: https://pypi.org/simple, https://us-python.pkg.dev/colab-wheels/public/simple/\n",
            "Collecting biopython\n",
            "  Downloading biopython-1.79-cp37-cp37m-manylinux_2_5_x86_64.manylinux1_x86_64.whl (2.3 MB)\n",
            "\u001b[K     |████████████████████████████████| 2.3 MB 5.2 MB/s \n",
            "\u001b[?25hRequirement already satisfied: numpy in /usr/local/lib/python3.7/dist-packages (from biopython) (1.21.6)\n",
            "Installing collected packages: biopython\n",
            "Successfully installed biopython-1.79\n"
          ]
        }
      ],
      "source": [
        "!pip install biopython"
      ]
    },
    {
      "cell_type": "code",
      "source": [
        "from Bio.Seq import Seq"
      ],
      "metadata": {
        "id": "Vp2GiXmg9oWM"
      },
      "execution_count": 3,
      "outputs": []
    },
    {
      "cell_type": "code",
      "source": [
        "dnaM = Seq('ATGGCCATTGTAATGGGCCGT')"
      ],
      "metadata": {
        "id": "AUIOaym6-Hvn"
      },
      "execution_count": null,
      "outputs": []
    },
    {
      "cell_type": "code",
      "source": [
        "dnaM"
      ],
      "metadata": {
        "colab": {
          "base_uri": "https://localhost:8080/"
        },
        "id": "McoKHf8i-nu9",
        "outputId": "58852148-4358-485b-fd54-35497e4a3174"
      },
      "execution_count": null,
      "outputs": [
        {
          "output_type": "execute_result",
          "data": {
            "text/plain": [
              "Seq('ATGGCCATTGTAATGGGCCGT')"
            ]
          },
          "metadata": {},
          "execution_count": 14
        }
      ]
    },
    {
      "cell_type": "code",
      "source": [
        "dnaC = dnaM.complement()"
      ],
      "metadata": {
        "id": "86EeREQq-qPk"
      },
      "execution_count": null,
      "outputs": []
    },
    {
      "cell_type": "code",
      "source": [
        "dnaC"
      ],
      "metadata": {
        "colab": {
          "base_uri": "https://localhost:8080/"
        },
        "id": "mQKhbI70-z8z",
        "outputId": "32a74f16-618f-4df9-b285-a6b5ba191f31"
      },
      "execution_count": null,
      "outputs": [
        {
          "output_type": "execute_result",
          "data": {
            "text/plain": [
              "Seq('TACCGGTAACATTACCCGGCA')"
            ]
          },
          "metadata": {},
          "execution_count": 16
        }
      ]
    },
    {
      "cell_type": "code",
      "source": [
        "print(dnaM)\n",
        "print(dnaC)\n"
      ],
      "metadata": {
        "colab": {
          "base_uri": "https://localhost:8080/"
        },
        "id": "SAneYqxo-04I",
        "outputId": "c609e5a1-1e7c-4574-b152-b581a1bef601"
      },
      "execution_count": null,
      "outputs": [
        {
          "output_type": "stream",
          "name": "stdout",
          "text": [
            "ATGGCCATTGTAATGGGCCGT\n",
            "TACCGGTAACATTACCCGGCA\n"
          ]
        }
      ]
    },
    {
      "cell_type": "code",
      "source": [
        "rnaMen = dnaC.transcribe()"
      ],
      "metadata": {
        "id": "56qPVwR3--ZK"
      },
      "execution_count": null,
      "outputs": []
    },
    {
      "cell_type": "code",
      "source": [
        "rnaMen"
      ],
      "metadata": {
        "colab": {
          "base_uri": "https://localhost:8080/"
        },
        "id": "0pADo__-_K-U",
        "outputId": "ee7e6374-8032-4e98-9c13-20a8bad79532"
      },
      "execution_count": null,
      "outputs": [
        {
          "output_type": "execute_result",
          "data": {
            "text/plain": [
              "Seq('UACCGGUAACAUUACCCGGCA')"
            ]
          },
          "metadata": {},
          "execution_count": 19
        }
      ]
    },
    {
      "cell_type": "code",
      "source": [
        "print(dnaM)\n",
        "print(dnaC)\n",
        "print(rnaMen)"
      ],
      "metadata": {
        "colab": {
          "base_uri": "https://localhost:8080/"
        },
        "id": "ff9ALUh7_L_K",
        "outputId": "da49b764-a76e-4982-ce76-9e658ca4e2e7"
      },
      "execution_count": null,
      "outputs": [
        {
          "output_type": "stream",
          "name": "stdout",
          "text": [
            "ATGGCCATTGTAATGGGCCGT\n",
            "TACCGGTAACATTACCCGGCA\n",
            "UACCGGUAACAUUACCCGGCA\n"
          ]
        }
      ]
    },
    {
      "cell_type": "code",
      "source": [
        "prot = rnaMen.translate()"
      ],
      "metadata": {
        "id": "D83TAhET_QT8"
      },
      "execution_count": null,
      "outputs": []
    },
    {
      "cell_type": "code",
      "source": [
        "prot"
      ],
      "metadata": {
        "colab": {
          "base_uri": "https://localhost:8080/"
        },
        "id": "S8CIvCgg_bax",
        "outputId": "2c195a5e-2b3b-44da-9238-a10cb524c69d"
      },
      "execution_count": null,
      "outputs": [
        {
          "output_type": "execute_result",
          "data": {
            "text/plain": [
              "Seq('YR*HYPA')"
            ]
          },
          "metadata": {},
          "execution_count": 22
        }
      ]
    },
    {
      "cell_type": "code",
      "source": [
        "prot = rnaMen.translate(to_stop=False, table=1)\n",
        "prot"
      ],
      "metadata": {
        "colab": {
          "base_uri": "https://localhost:8080/"
        },
        "id": "mIQNUq2I_cz4",
        "outputId": "499e9f84-cc69-4de6-c861-509db7fbc501"
      },
      "execution_count": null,
      "outputs": [
        {
          "output_type": "execute_result",
          "data": {
            "text/plain": [
              "Seq('YR*HYPA')"
            ]
          },
          "metadata": {},
          "execution_count": 28
        }
      ]
    },
    {
      "cell_type": "code",
      "source": [
        "prot = rnaMen.translate(to_stop=False, table=11)\n",
        "prot"
      ],
      "metadata": {
        "colab": {
          "base_uri": "https://localhost:8080/"
        },
        "id": "yvP1C4T8_5GB",
        "outputId": "ead70d4f-3383-4a98-9640-de3eeb8acf94"
      },
      "execution_count": null,
      "outputs": [
        {
          "output_type": "execute_result",
          "data": {
            "text/plain": [
              "Seq('YR*HYPA')"
            ]
          },
          "metadata": {},
          "execution_count": 30
        }
      ]
    },
    {
      "cell_type": "code",
      "source": [
        "from Bio import pairwise2"
      ],
      "metadata": {
        "id": "fBh0dXiJ_54k"
      },
      "execution_count": 4,
      "outputs": []
    },
    {
      "cell_type": "code",
      "source": [
        "seq1 = Seq('ATGGCCATTGTAATGGGCCGT')\n",
        "seq2 = Seq('ATCATTGTAATGAACCGT')"
      ],
      "metadata": {
        "id": "fjP54RapBZzO"
      },
      "execution_count": null,
      "outputs": []
    },
    {
      "cell_type": "code",
      "source": [
        "align = pairwise2.align.globalxx(seq1, seq2)"
      ],
      "metadata": {
        "id": "Uae3LkaHCAsk"
      },
      "execution_count": null,
      "outputs": []
    },
    {
      "cell_type": "code",
      "source": [
        "print(pairwise2.format_alignment(*align[-1]))"
      ],
      "metadata": {
        "colab": {
          "base_uri": "https://localhost:8080/"
        },
        "id": "dVvWy45mCQWc",
        "outputId": "24223088-0f86-45ce-81d5-e735c10490ae"
      },
      "execution_count": null,
      "outputs": [
        {
          "output_type": "stream",
          "name": "stdout",
          "text": [
            "ATGGCCATTGTAATG-GGCCGT\n",
            "||  | ||||||||| . ||||\n",
            "AT--C-ATTGTAATGAA-CCGT\n",
            "  Score=16\n",
            "\n"
          ]
        }
      ]
    },
    {
      "cell_type": "code",
      "source": [
        "align2 = pairwise2.align.globalms(seq1, seq2, 5, -4, -2, -0.5)"
      ],
      "metadata": {
        "id": "LxIFbAyYCzxN"
      },
      "execution_count": null,
      "outputs": []
    },
    {
      "cell_type": "code",
      "source": [
        "print(pairwise2.format_alignment(*align2[0]))"
      ],
      "metadata": {
        "colab": {
          "base_uri": "https://localhost:8080/"
        },
        "id": "G0s_bsLQDXqe",
        "outputId": "935384c2-fc36-44cf-a104-18ce61d76142"
      },
      "execution_count": null,
      "outputs": [
        {
          "output_type": "stream",
          "name": "stdout",
          "text": [
            "ATGGCCATTGTAATGGG--CCGT\n",
            "||   |||||||||  |  ||||\n",
            "AT---CATTGTAAT--GAACCGT\n",
            "  Score=72\n",
            "\n"
          ]
        }
      ]
    },
    {
      "cell_type": "markdown",
      "source": [
        "Importar dados NCBI"
      ],
      "metadata": {
        "id": "EJjuppLaE0f8"
      }
    },
    {
      "cell_type": "code",
      "source": [
        "from Bio import Entrez\n",
        "from Bio import SeqIO"
      ],
      "metadata": {
        "id": "mUOhlDDsESKA"
      },
      "execution_count": 5,
      "outputs": []
    },
    {
      "cell_type": "code",
      "source": [
        "Entrez.email = \"guilherme@sclab.com.br\"\n",
        "handle = Entrez.esearch(db='nucleotide', term='SARS-CoV-2 human', retmax='10')\n",
        "record = Entrez.read(handle)"
      ],
      "metadata": {
        "id": "_PPixmgHGEtm"
      },
      "execution_count": 6,
      "outputs": []
    },
    {
      "cell_type": "code",
      "source": [
        "record['IdList']"
      ],
      "metadata": {
        "colab": {
          "base_uri": "https://localhost:8080/"
        },
        "id": "vGdZRhRhGw9i",
        "outputId": "31f87d72-a270-4b6b-d5f5-0963d0bde69d"
      },
      "execution_count": 7,
      "outputs": [
        {
          "output_type": "execute_result",
          "data": {
            "text/plain": [
              "['2282816784', '2282785922', '2282785920', '2282785918', '2282785916', '2282785914', '2282785912', '2282785910', '2282785908', '2282785906']"
            ]
          },
          "metadata": {},
          "execution_count": 7
        }
      ]
    },
    {
      "cell_type": "code",
      "source": [
        "seq_handle = Entrez.efetch(db='nucleotide', rettype='fasta', id=record['IdList'])"
      ],
      "metadata": {
        "id": "fFB0YQYhGzPY"
      },
      "execution_count": 8,
      "outputs": []
    },
    {
      "cell_type": "code",
      "source": [
        "seq_record = SeqIO.parse(seq_handle, 'fasta')"
      ],
      "metadata": {
        "id": "6eJGEWQwHqB4"
      },
      "execution_count": 9,
      "outputs": []
    },
    {
      "cell_type": "code",
      "source": [
        "seq_record"
      ],
      "metadata": {
        "colab": {
          "base_uri": "https://localhost:8080/"
        },
        "id": "QI8gX6SuH1k8",
        "outputId": "c7fb3c22-76bf-4a7b-a444-7e9e28e85eb8"
      },
      "execution_count": 10,
      "outputs": [
        {
          "output_type": "execute_result",
          "data": {
            "text/plain": [
              "<Bio.SeqIO.FastaIO.FastaIterator at 0x7f9b3dfc7bd0>"
            ]
          },
          "metadata": {},
          "execution_count": 10
        }
      ]
    },
    {
      "cell_type": "code",
      "source": [
        "SeqIO.write(seq_record, 'covHuman_10.fasta', 'fasta')"
      ],
      "metadata": {
        "colab": {
          "base_uri": "https://localhost:8080/"
        },
        "id": "TbhXpJL1H3S0",
        "outputId": "e00d8d6b-fdcc-487e-d546-cfa1ebb3406b"
      },
      "execution_count": 11,
      "outputs": [
        {
          "output_type": "execute_result",
          "data": {
            "text/plain": [
              "10"
            ]
          },
          "metadata": {},
          "execution_count": 11
        }
      ]
    },
    {
      "cell_type": "code",
      "source": [
        "seqs = []\n",
        "\n",
        "with open('covHuman_10.fasta', 'r') as fasta_file:\n",
        "  for s in SeqIO.parse(fasta_file, 'fasta'):\n",
        "    seqs.append(s)"
      ],
      "metadata": {
        "id": "8iMOok0_hVdu"
      },
      "execution_count": 14,
      "outputs": []
    },
    {
      "cell_type": "code",
      "source": [
        "seqs"
      ],
      "metadata": {
        "colab": {
          "base_uri": "https://localhost:8080/"
        },
        "id": "tsOa1JecuD0c",
        "outputId": "6d74f89b-90de-469e-ad4d-80886be1d50a"
      },
      "execution_count": 42,
      "outputs": [
        {
          "output_type": "execute_result",
          "data": {
            "text/plain": [
              "[SeqRecord(seq=Seq('AGGAACAAATACTTCTAACCAGGTTGCTGTTCTTTATCAGGATGTTAACTGCAC...CAT'), id='OP164535.1', name='OP164535.1', description='OP164535.1 Severe acute respiratory syndrome coronavirus 2 isolate SARS-CoV-2/human/IRQ/IQ-4 AL-Diwanyah/2021 surface glycoprotein (S) gene, partial cds', dbxrefs=[]),\n",
              " SeqRecord(seq=Seq('ATGTTTGTTTTTCTTGTTTTATTGCCACTAGTCTCTAGTCAGTGTGTTAATCTT...TAA'), id='OP164420.1', name='OP164420.1', description='OP164420.1 Severe acute respiratory syndrome coronavirus 2 isolate SARS-CoV-2/human/TWN/CGMH-CGU-248/2022 surface glycoprotein (S) gene, complete cds', dbxrefs=[]),\n",
              " SeqRecord(seq=Seq('ATGTTTGTTTTTCTTGTTTTATTGCCACTAGTCTCTAGTCAGTGTGTTAATCTT...TAA'), id='OP164419.1', name='OP164419.1', description='OP164419.1 Severe acute respiratory syndrome coronavirus 2 isolate SARS-CoV-2/human/TWN/CGMH-CGU-247/2022 surface glycoprotein (S) gene, complete cds', dbxrefs=[]),\n",
              " SeqRecord(seq=Seq('ATGTTTGTTTTTCTTGTTTTATTGCCACTAGTCTCTAGTCAGTGTGTTAATCTT...TAA'), id='OP164418.1', name='OP164418.1', description='OP164418.1 Severe acute respiratory syndrome coronavirus 2 isolate SARS-CoV-2/human/TWN/CGMH-CGU-246/2022 surface glycoprotein (S) gene, complete cds', dbxrefs=[]),\n",
              " SeqRecord(seq=Seq('ATGTTTGTTTTTCTTGTTTTATTGCCACTAGTCTCTAGTCAGTGTGTTAATCTT...TAA'), id='OP164417.1', name='OP164417.1', description='OP164417.1 Severe acute respiratory syndrome coronavirus 2 isolate SARS-CoV-2/human/TWN/CGMH-CGU-245/2022 surface glycoprotein (S) gene, complete cds', dbxrefs=[]),\n",
              " SeqRecord(seq=Seq('ATGTTTGTTTTTCTTGTTTTATTGCCACTAGTCTCTAGTCAGTGTGTTAATCTT...TAA'), id='OP164416.1', name='OP164416.1', description='OP164416.1 Severe acute respiratory syndrome coronavirus 2 isolate SARS-CoV-2/human/TWN/CGMH-CGU-244/2022 surface glycoprotein (S) gene, complete cds', dbxrefs=[]),\n",
              " SeqRecord(seq=Seq('ATGTTTGTTTTTCTTGTTTTATTGCCACTAGTCTCTAGTCAGTGTGTTAATCTT...TAA'), id='OP164415.1', name='OP164415.1', description='OP164415.1 Severe acute respiratory syndrome coronavirus 2 isolate SARS-CoV-2/human/TWN/CGMH-CGU-243/2022 surface glycoprotein (S) gene, complete cds', dbxrefs=[]),\n",
              " SeqRecord(seq=Seq('ATGTTTGTTTTTCTTGTTTTATTGCCACTAGTCTCTAGTCAGTGTGTTAATCTT...TAA'), id='OP164414.1', name='OP164414.1', description='OP164414.1 Severe acute respiratory syndrome coronavirus 2 isolate SARS-CoV-2/human/TWN/CGMH-CGU-242/2022 surface glycoprotein (S) gene, complete cds', dbxrefs=[]),\n",
              " SeqRecord(seq=Seq('ATGTTTGTTTTTCTTGTTTTATTGCCACTAGTCTCTAGTCAGTGTGTTAATCTT...TAA'), id='OP164413.1', name='OP164413.1', description='OP164413.1 Severe acute respiratory syndrome coronavirus 2 isolate SARS-CoV-2/human/TWN/CGMH-CGU-241/2022 surface glycoprotein (S) gene, complete cds', dbxrefs=[]),\n",
              " SeqRecord(seq=Seq('ATGTTTGTTTTTCTTGTTTTATTGCCACTAGTCTCTAGTCAGTGTGTTAATCTT...TAA'), id='OP164412.1', name='OP164412.1', description='OP164412.1 Severe acute respiratory syndrome coronavirus 2 isolate SARS-CoV-2/human/TWN/CGMH-CGU-240/2022 surface glycoprotein (S) gene, complete cds', dbxrefs=[])]"
            ]
          },
          "metadata": {},
          "execution_count": 42
        }
      ]
    },
    {
      "cell_type": "code",
      "source": [
        "seqs[0].seq"
      ],
      "metadata": {
        "colab": {
          "base_uri": "https://localhost:8080/"
        },
        "id": "KB3QPwGrhVWC",
        "outputId": "7c75282c-d6a6-4e20-cb7f-9bd0360c13d5"
      },
      "execution_count": 22,
      "outputs": [
        {
          "output_type": "execute_result",
          "data": {
            "text/plain": [
              "Seq('AGGAACAAATACTTCTAACCAGGTTGCTGTTCTTTATCAGGATGTTAACTGCAC...CAT')"
            ]
          },
          "metadata": {},
          "execution_count": 22
        }
      ]
    },
    {
      "cell_type": "code",
      "source": [
        "seqs[0].id"
      ],
      "metadata": {
        "colab": {
          "base_uri": "https://localhost:8080/",
          "height": 35
        },
        "id": "_dcXvzgRhVOp",
        "outputId": "888693e5-510f-42f0-8a99-c6150743262c"
      },
      "execution_count": 27,
      "outputs": [
        {
          "output_type": "execute_result",
          "data": {
            "text/plain": [
              "'OP164535.1'"
            ],
            "application/vnd.google.colaboratory.intrinsic+json": {
              "type": "string"
            }
          },
          "metadata": {},
          "execution_count": 27
        }
      ]
    },
    {
      "cell_type": "code",
      "source": [
        "seqs[0].description"
      ],
      "metadata": {
        "colab": {
          "base_uri": "https://localhost:8080/",
          "height": 53
        },
        "id": "b29ahNTphVHq",
        "outputId": "028caf46-d2f2-4734-afae-935944d3bf5d"
      },
      "execution_count": 28,
      "outputs": [
        {
          "output_type": "execute_result",
          "data": {
            "text/plain": [
              "'OP164535.1 Severe acute respiratory syndrome coronavirus 2 isolate SARS-CoV-2/human/IRQ/IQ-4 AL-Diwanyah/2021 surface glycoprotein (S) gene, partial cds'"
            ],
            "application/vnd.google.colaboratory.intrinsic+json": {
              "type": "string"
            }
          },
          "metadata": {},
          "execution_count": 28
        }
      ]
    },
    {
      "cell_type": "code",
      "source": [
        "seqs[0].seq.transcribe().translate(table=11)"
      ],
      "metadata": {
        "colab": {
          "base_uri": "https://localhost:8080/"
        },
        "id": "-3fjs8mFhVAI",
        "outputId": "68a48376-efac-40e4-92ee-28df84d15219"
      },
      "execution_count": 34,
      "outputs": [
        {
          "output_type": "stream",
          "name": "stderr",
          "text": [
            "/usr/local/lib/python3.7/dist-packages/Bio/Seq.py:2983: BiopythonWarning: Partial codon, len(sequence) not a multiple of three. Explicitly trim the sequence or add trailing N before translation. This may become an error in future.\n",
            "  BiopythonWarning,\n"
          ]
        },
        {
          "output_type": "execute_result",
          "data": {
            "text/plain": [
              "Seq('RNKYF*PGCCSLSGC*LHRSPCCYSCRSTYSYLACLFYRF*CFSNTCRLFNRG*...QEV')"
            ]
          },
          "metadata": {},
          "execution_count": 34
        }
      ]
    },
    {
      "cell_type": "code",
      "source": [
        "seqs[0].seq.transcribe().translate(table=1)"
      ],
      "metadata": {
        "colab": {
          "base_uri": "https://localhost:8080/"
        },
        "id": "zqpcXUwghU4t",
        "outputId": "4aa8a07f-6656-408f-ddee-d70a89aabb4c"
      },
      "execution_count": 35,
      "outputs": [
        {
          "output_type": "stream",
          "name": "stderr",
          "text": [
            "/usr/local/lib/python3.7/dist-packages/Bio/Seq.py:2983: BiopythonWarning: Partial codon, len(sequence) not a multiple of three. Explicitly trim the sequence or add trailing N before translation. This may become an error in future.\n",
            "  BiopythonWarning,\n"
          ]
        },
        {
          "output_type": "execute_result",
          "data": {
            "text/plain": [
              "Seq('RNKYF*PGCCSLSGC*LHRSPCCYSCRSTYSYLACLFYRF*CFSNTCRLFNRG*...QEV')"
            ]
          },
          "metadata": {},
          "execution_count": 35
        }
      ]
    },
    {
      "cell_type": "code",
      "source": [
        "from Bio.SeqUtils import GC"
      ],
      "metadata": {
        "id": "yKgbg2ofhUxJ"
      },
      "execution_count": 36,
      "outputs": []
    },
    {
      "cell_type": "code",
      "source": [
        "ids = []\n",
        "gcs = []\n",
        "ids_gcs = []\n",
        "\n",
        "for s in seqs:\n",
        "  ids.append(s.id)\n",
        "  gcs.append( GC(s.seq) )\n",
        "\n",
        "  ids_gcs.append( s.id + ' ' + str(GC(s.seq)) )\n",
        "\n",
        "  # if s.id == 'OP164417.1':\n",
        "  #   break"
      ],
      "metadata": {
        "id": "Y2wehsvShUpk"
      },
      "execution_count": 66,
      "outputs": []
    },
    {
      "cell_type": "code",
      "source": [
        "import matplotlib.pyplot as plt"
      ],
      "metadata": {
        "id": "jECea7QMhUiF"
      },
      "execution_count": 64,
      "outputs": []
    },
    {
      "cell_type": "code",
      "source": [
        "plt.bar(ids, gcs)\n",
        "plt.xticks(rotation = 45)\n",
        "plt.title('GC content (%)')\n",
        "plt.show()"
      ],
      "metadata": {
        "colab": {
          "base_uri": "https://localhost:8080/",
          "height": 322
        },
        "id": "4lrVPw02hUag",
        "outputId": "16e03413-8c40-458c-e45c-5df8def5e173"
      },
      "execution_count": 70,
      "outputs": [
        {
          "output_type": "display_data",
          "data": {
            "text/plain": [
              "<Figure size 432x288 with 1 Axes>"
            ],
            "image/png": "[encoded data removed]"
          },
          "metadata": {
            "needs_background": "light"
          }
        }
      ]
    },
    {
      "cell_type": "code",
      "source": [
        "!pip install jupyter-dash"
      ],
      "metadata": {
        "colab": {
          "base_uri": "https://localhost:8080/"
        },
        "id": "rjw-dCL5hUTO",
        "outputId": "d4d7619e-eaf4-44d0-d279-96d6c348487d"
      },
      "execution_count": 71,
      "outputs": [
        {
          "output_type": "stream",
          "name": "stdout",
          "text": [
            "Looking in indexes: https://pypi.org/simple, https://us-python.pkg.dev/colab-wheels/public/simple/\n",
            "Collecting jupyter-dash\n",
            "  Downloading jupyter_dash-0.4.2-py3-none-any.whl (23 kB)\n",
            "Collecting ansi2html\n",
            "  Downloading ansi2html-1.8.0-py3-none-any.whl (16 kB)\n",
            "Requirement already satisfied: requests in /usr/local/lib/python3.7/dist-packages (from jupyter-dash) (2.23.0)\n",
            "Collecting dash\n",
            "  Downloading dash-2.6.1-py3-none-any.whl (9.9 MB)\n",
            "\u001b[K     |████████████████████████████████| 9.9 MB 7.1 MB/s \n",
            "\u001b[?25hRequirement already satisfied: ipykernel in /usr/local/lib/python3.7/dist-packages (from jupyter-dash) (4.10.1)\n",
            "Requirement already satisfied: nest-asyncio in /usr/local/lib/python3.7/dist-packages (from jupyter-dash) (1.5.5)\n",
            "Collecting retrying\n",
            "  Downloading retrying-1.3.3.tar.gz (10 kB)\n",
            "Requirement already satisfied: ipython in /usr/local/lib/python3.7/dist-packages (from jupyter-dash) (5.5.0)\n",
            "Requirement already satisfied: flask in /usr/local/lib/python3.7/dist-packages (from jupyter-dash) (1.1.4)\n",
            "Requirement already satisfied: importlib-metadata in /usr/local/lib/python3.7/dist-packages (from ansi2html->jupyter-dash) (4.12.0)\n",
            "Requirement already satisfied: plotly>=5.0.0 in /usr/local/lib/python3.7/dist-packages (from dash->jupyter-dash) (5.5.0)\n",
            "Collecting dash-html-components==2.0.0\n",
            "  Downloading dash_html_components-2.0.0-py3-none-any.whl (4.1 kB)\n",
            "Collecting flask-compress\n",
            "  Downloading Flask_Compress-1.12-py3-none-any.whl (7.9 kB)\n",
            "Collecting dash-table==5.0.0\n",
            "  Downloading dash_table-5.0.0-py3-none-any.whl (3.9 kB)\n",
            "Collecting dash-core-components==2.0.0\n",
            "  Downloading dash_core_components-2.0.0-py3-none-any.whl (3.8 kB)\n",
            "Requirement already satisfied: Jinja2<3.0,>=2.10.1 in /usr/local/lib/python3.7/dist-packages (from flask->jupyter-dash) (2.11.3)\n",
            "Requirement already satisfied: Werkzeug<2.0,>=0.15 in /usr/local/lib/python3.7/dist-packages (from flask->jupyter-dash) (1.0.1)\n",
            "Requirement already satisfied: itsdangerous<2.0,>=0.24 in /usr/local/lib/python3.7/dist-packages (from flask->jupyter-dash) (1.1.0)\n",
            "Requirement already satisfied: click<8.0,>=5.1 in /usr/local/lib/python3.7/dist-packages (from flask->jupyter-dash) (7.1.2)\n",
            "Requirement already satisfied: MarkupSafe>=0.23 in /usr/local/lib/python3.7/dist-packages (from Jinja2<3.0,>=2.10.1->flask->jupyter-dash) (2.0.1)\n",
            "Requirement already satisfied: tenacity>=6.2.0 in /usr/local/lib/python3.7/dist-packages (from plotly>=5.0.0->dash->jupyter-dash) (8.0.1)\n",
            "Requirement already satisfied: six in /usr/local/lib/python3.7/dist-packages (from plotly>=5.0.0->dash->jupyter-dash) (1.15.0)\n",
            "Collecting brotli\n",
            "  Downloading Brotli-1.0.9-cp37-cp37m-manylinux1_x86_64.whl (357 kB)\n",
            "\u001b[K     |████████████████████████████████| 357 kB 54.3 MB/s \n",
            "\u001b[?25hRequirement already satisfied: zipp>=0.5 in /usr/local/lib/python3.7/dist-packages (from importlib-metadata->ansi2html->jupyter-dash) (3.8.1)\n",
            "Requirement already satisfied: typing-extensions>=3.6.4 in /usr/local/lib/python3.7/dist-packages (from importlib-metadata->ansi2html->jupyter-dash) (4.1.1)\n",
            "Requirement already satisfied: traitlets>=4.1.0 in /usr/local/lib/python3.7/dist-packages (from ipykernel->jupyter-dash) (5.1.1)\n",
            "Requirement already satisfied: jupyter-client in /usr/local/lib/python3.7/dist-packages (from ipykernel->jupyter-dash) (5.3.5)\n",
            "Requirement already satisfied: tornado>=4.0 in /usr/local/lib/python3.7/dist-packages (from ipykernel->jupyter-dash) (5.1.1)\n",
            "Requirement already satisfied: pickleshare in /usr/local/lib/python3.7/dist-packages (from ipython->jupyter-dash) (0.7.5)\n",
            "Requirement already satisfied: decorator in /usr/local/lib/python3.7/dist-packages (from ipython->jupyter-dash) (4.4.2)\n",
            "Requirement already satisfied: pygments in /usr/local/lib/python3.7/dist-packages (from ipython->jupyter-dash) (2.6.1)\n",
            "Requirement already satisfied: prompt-toolkit<2.0.0,>=1.0.4 in /usr/local/lib/python3.7/dist-packages (from ipython->jupyter-dash) (1.0.18)\n",
            "Requirement already satisfied: simplegeneric>0.8 in /usr/local/lib/python3.7/dist-packages (from ipython->jupyter-dash) (0.8.1)\n",
            "Requirement already satisfied: setuptools>=18.5 in /usr/local/lib/python3.7/dist-packages (from ipython->jupyter-dash) (57.4.0)\n",
            "Requirement already satisfied: pexpect in /usr/local/lib/python3.7/dist-packages (from ipython->jupyter-dash) (4.8.0)\n",
            "Requirement already satisfied: wcwidth in /usr/local/lib/python3.7/dist-packages (from prompt-toolkit<2.0.0,>=1.0.4->ipython->jupyter-dash) (0.2.5)\n",
            "Requirement already satisfied: jupyter-core>=4.6.0 in /usr/local/lib/python3.7/dist-packages (from jupyter-client->ipykernel->jupyter-dash) (4.11.1)\n",
            "Requirement already satisfied: python-dateutil>=2.1 in /usr/local/lib/python3.7/dist-packages (from jupyter-client->ipykernel->jupyter-dash) (2.8.2)\n",
            "Requirement already satisfied: pyzmq>=13 in /usr/local/lib/python3.7/dist-packages (from jupyter-client->ipykernel->jupyter-dash) (23.2.0)\n",
            "Requirement already satisfied: ptyprocess>=0.5 in /usr/local/lib/python3.7/dist-packages (from pexpect->ipython->jupyter-dash) (0.7.0)\n",
            "Requirement already satisfied: certifi>=2017.4.17 in /usr/local/lib/python3.7/dist-packages (from requests->jupyter-dash) (2022.6.15)\n",
            "Requirement already satisfied: chardet<4,>=3.0.2 in /usr/local/lib/python3.7/dist-packages (from requests->jupyter-dash) (3.0.4)\n",
            "Requirement already satisfied: urllib3!=1.25.0,!=1.25.1,<1.26,>=1.21.1 in /usr/local/lib/python3.7/dist-packages (from requests->jupyter-dash) (1.24.3)\n",
            "Requirement already satisfied: idna<3,>=2.5 in /usr/local/lib/python3.7/dist-packages (from requests->jupyter-dash) (2.10)\n",
            "Building wheels for collected packages: retrying\n",
            "  Building wheel for retrying (setup.py) ... \u001b[?25l\u001b[?25hdone\n",
            "  Created wheel for retrying: filename=retrying-1.3.3-py3-none-any.whl size=11447 sha256=6b5949d2485c4c816fa2455741df9dd72ebf0953deaf487346a2064324cb5f95\n",
            "  Stored in directory: /root/.cache/pip/wheels/f9/8d/8d/f6af3f7f9eea3553bc2fe6d53e4b287dad18b06a861ac56ddf\n",
            "Successfully built retrying\n",
            "Installing collected packages: brotli, flask-compress, dash-table, dash-html-components, dash-core-components, retrying, dash, ansi2html, jupyter-dash\n",
            "Successfully installed ansi2html-1.8.0 brotli-1.0.9 dash-2.6.1 dash-core-components-2.0.0 dash-html-components-2.0.0 dash-table-5.0.0 flask-compress-1.12 jupyter-dash-0.4.2 retrying-1.3.3\n"
          ]
        }
      ]
    },
    {
      "cell_type": "code",
      "source": [
        "import plotly.express as px"
      ],
      "metadata": {
        "id": "BlGOMqL80RZI"
      },
      "execution_count": 72,
      "outputs": []
    },
    {
      "cell_type": "code",
      "source": [
        "fig = px.bar(x=ids, y=gcs)\n",
        "fig.show()"
      ],
      "metadata": {
        "colab": {
          "base_uri": "https://localhost:8080/",
          "height": 542
        },
        "id": "tvf-4PgjhUK4",
        "outputId": "c683aa65-11c7-48b3-c453-1cd307b5d9d1"
      },
      "execution_count": 73,
      "outputs": [
        {
          "output_type": "display_data",
          "data": {
            "text/html": [
              "<html>\n",
              "<head><meta charset=\"utf-8\" /></head>\n",
              "<body>\n",
              "    <div>            <script src=\"https://cdnjs.cloudflare.com/ajax/libs/mathjax/2.7.5/MathJax.js?config=TeX-AMS-MML_SVG\"></script><script type=\"text/javascript\">if (window.MathJax) {MathJax.Hub.Config({SVG: {font: \"STIX-Web\"}});}</script>                <script type=\"text/javascript\">window.PlotlyConfig = {MathJaxConfig: 'local'};</script>\n",
              "        <script src=\"https://cdn.plot.ly/plotly-2.8.3.min.js\"></script>                <div id=\"8a152fd6-11f6-4345-9817-19b76f4452fc\" class=\"plotly-graph-div\" style=\"height:525px; width:100%;\"></div>            <script type=\"text/javascript\">                                    window.PLOTLYENV=window.PLOTLYENV || {};                                    if (document.getElementById(\"8a152fd6-11f6-4345-9817-19b76f4452fc\")) {                    Plotly.newPlot(                        \"8a152fd6-11f6-4345-9817-19b76f4452fc\",                        [{\"alignmentgroup\":\"True\",\"hovertemplate\":\"x=%{x}<br>y=%{y}<extra></extra>\",\"legendgroup\":\"\",\"marker\":{\"color\":\"#636efa\",\"pattern\":{\"shape\":\"\"}},\"name\":\"\",\"offsetgroup\":\"\",\"orientation\":\"v\",\"showlegend\":false,\"textposition\":\"auto\",\"x\":[\"OP164535.1\",\"OP164420.1\",\"OP164419.1\",\"OP164418.1\",\"OP164417.1\",\"OP164416.1\",\"OP164415.1\",\"OP164414.1\",\"OP164413.1\",\"OP164412.1\"],\"xaxis\":\"x\",\"y\":[38.15384615384615,37.188565434041436,37.16233936532914,37.16233936532914,37.16233936532914,37.16233936532914,37.16233936532914,37.16233936532914,37.16233936532914,37.16233936532914],\"yaxis\":\"y\",\"type\":\"bar\"}],                        {\"template\":{\"data\":{\"bar\":[{\"error_x\":{\"color\":\"#2a3f5f\"},\"error_y\":{\"color\":\"#2a3f5f\"},\"marker\":{\"line\":{\"color\":\"#E5ECF6\",\"width\":0.5},\"pattern\":{\"fillmode\":\"overlay\",\"size\":10,\"solidity\":0.2}},\"type\":\"bar\"}],\"barpolar\":[{\"marker\":{\"line\":{\"color\":\"#E5ECF6\",\"width\":0.5},\"pattern\":{\"fillmode\":\"overlay\",\"size\":10,\"solidity\":0.2}},\"type\":\"barpolar\"}],\"carpet\":[{\"aaxis\":{\"endlinecolor\":\"#2a3f5f\",\"gridcolor\":\"white\",\"linecolor\":\"white\",\"minorgridcolor\":\"white\",\"startlinecolor\":\"#2a3f5f\"},\"baxis\":{\"endlinecolor\":\"#2a3f5f\",\"gridcolor\":\"white\",\"linecolor\":\"white\",\"minorgridcolor\":\"white\",\"startlinecolor\":\"#2a3f5f\"},\"type\":\"carpet\"}],\"choropleth\":[{\"colorbar\":{\"outlinewidth\":0,\"ticks\":\"\"},\"type\":\"choropleth\"}],\"contour\":[{\"colorbar\":{\"outlinewidth\":0,\"ticks\":\"\"},\"colorscale\":[[0.0,\"#0d0887\"],[0.1111111111111111,\"#46039f\"],[0.2222222222222222,\"#7201a8\"],[0.3333333333333333,\"#9c179e\"],[0.4444444444444444,\"#bd3786\"],[0.5555555555555556,\"#d8576b\"],[0.6666666666666666,\"#ed7953\"],[0.7777777777777778,\"#fb9f3a\"],[0.8888888888888888,\"#fdca26\"],[1.0,\"#f0f921\"]],\"type\":\"contour\"}],\"contourcarpet\":[{\"colorbar\":{\"outlinewidth\":0,\"ticks\":\"\"},\"type\":\"contourcarpet\"}],\"heatmap\":[{\"colorbar\":{\"outlinewidth\":0,\"ticks\":\"\"},\"colorscale\":[[0.0,\"#0d0887\"],[0.1111111111111111,\"#46039f\"],[0.2222222222222222,\"#7201a8\"],[0.3333333333333333,\"#9c179e\"],[0.4444444444444444,\"#bd3786\"],[0.5555555555555556,\"#d8576b\"],[0.6666666666666666,\"#ed7953\"],[0.7777777777777778,\"#fb9f3a\"],[0.8888888888888888,\"#fdca26\"],[1.0,\"#f0f921\"]],\"type\":\"heatmap\"}],\"heatmapgl\":[{\"colorbar\":{\"outlinewidth\":0,\"ticks\":\"\"},\"colorscale\":[[0.0,\"#0d0887\"],[0.1111111111111111,\"#46039f\"],[0.2222222222222222,\"#7201a8\"],[0.3333333333333333,\"#9c179e\"],[0.4444444444444444,\"#bd3786\"],[0.5555555555555556,\"#d8576b\"],[0.6666666666666666,\"#ed7953\"],[0.7777777777777778,\"#fb9f3a\"],[0.8888888888888888,\"#fdca26\"],[1.0,\"#f0f921\"]],\"type\":\"heatmapgl\"}],\"histogram\":[{\"marker\":{\"pattern\":{\"fillmode\":\"overlay\",\"size\":10,\"solidity\":0.2}},\"type\":\"histogram\"}],\"histogram2d\":[{\"colorbar\":{\"outlinewidth\":0,\"ticks\":\"\"},\"colorscale\":[[0.0,\"#0d0887\"],[0.1111111111111111,\"#46039f\"],[0.2222222222222222,\"#7201a8\"],[0.3333333333333333,\"#9c179e\"],[0.4444444444444444,\"#bd3786\"],[0.5555555555555556,\"#d8576b\"],[0.6666666666666666,\"#ed7953\"],[0.7777777777777778,\"#fb9f3a\"],[0.8888888888888888,\"#fdca26\"],[1.0,\"#f0f921\"]],\"type\":\"histogram2d\"}],\"histogram2dcontour\":[{\"colorbar\":{\"outlinewidth\":0,\"ticks\":\"\"},\"colorscale\":[[0.0,\"#0d0887\"],[0.1111111111111111,\"#46039f\"],[0.2222222222222222,\"#7201a8\"],[0.3333333333333333,\"#9c179e\"],[0.4444444444444444,\"#bd3786\"],[0.5555555555555556,\"#d8576b\"],[0.6666666666666666,\"#ed7953\"],[0.7777777777777778,\"#fb9f3a\"],[0.8888888888888888,\"#fdca26\"],[1.0,\"#f0f921\"]],\"type\":\"histogram2dcontour\"}],\"mesh3d\":[{\"colorbar\":{\"outlinewidth\":0,\"ticks\":\"\"},\"type\":\"mesh3d\"}],\"parcoords\":[{\"line\":{\"colorbar\":{\"outlinewidth\":0,\"ticks\":\"\"}},\"type\":\"parcoords\"}],\"pie\":[{\"automargin\":true,\"type\":\"pie\"}],\"scatter\":[{\"marker\":{\"colorbar\":{\"outlinewidth\":0,\"ticks\":\"\"}},\"type\":\"scatter\"}],\"scatter3d\":[{\"line\":{\"colorbar\":{\"outlinewidth\":0,\"ticks\":\"\"}},\"marker\":{\"colorbar\":{\"outlinewidth\":0,\"ticks\":\"\"}},\"type\":\"scatter3d\"}],\"scattercarpet\":[{\"marker\":{\"colorbar\":{\"outlinewidth\":0,\"ticks\":\"\"}},\"type\":\"scattercarpet\"}],\"scattergeo\":[{\"marker\":{\"colorbar\":{\"outlinewidth\":0,\"ticks\":\"\"}},\"type\":\"scattergeo\"}],\"scattergl\":[{\"marker\":{\"colorbar\":{\"outlinewidth\":0,\"ticks\":\"\"}},\"type\":\"scattergl\"}],\"scattermapbox\":[{\"marker\":{\"colorbar\":{\"outlinewidth\":0,\"ticks\":\"\"}},\"type\":\"scattermapbox\"}],\"scatterpolar\":[{\"marker\":{\"colorbar\":{\"outlinewidth\":0,\"ticks\":\"\"}},\"type\":\"scatterpolar\"}],\"scatterpolargl\":[{\"marker\":{\"colorbar\":{\"outlinewidth\":0,\"ticks\":\"\"}},\"type\":\"scatterpolargl\"}],\"scatterternary\":[{\"marker\":{\"colorbar\":{\"outlinewidth\":0,\"ticks\":\"\"}},\"type\":\"scatterternary\"}],\"surface\":[{\"colorbar\":{\"outlinewidth\":0,\"ticks\":\"\"},\"colorscale\":[[0.0,\"#0d0887\"],[0.1111111111111111,\"#46039f\"],[0.2222222222222222,\"#7201a8\"],[0.3333333333333333,\"#9c179e\"],[0.4444444444444444,\"#bd3786\"],[0.5555555555555556,\"#d8576b\"],[0.6666666666666666,\"#ed7953\"],[0.7777777777777778,\"#fb9f3a\"],[0.8888888888888888,\"#fdca26\"],[1.0,\"#f0f921\"]],\"type\":\"surface\"}],\"table\":[{\"cells\":{\"fill\":{\"color\":\"#EBF0F8\"},\"line\":{\"color\":\"white\"}},\"header\":{\"fill\":{\"color\":\"#C8D4E3\"},\"line\":{\"color\":\"white\"}},\"type\":\"table\"}]},\"layout\":{\"annotationdefaults\":{\"arrowcolor\":\"#2a3f5f\",\"arrowhead\":0,\"arrowwidth\":1},\"autotypenumbers\":\"strict\",\"coloraxis\":{\"colorbar\":{\"outlinewidth\":0,\"ticks\":\"\"}},\"colorscale\":{\"diverging\":[[0,\"#8e0152\"],[0.1,\"#c51b7d\"],[0.2,\"#de77ae\"],[0.3,\"#f1b6da\"],[0.4,\"#fde0ef\"],[0.5,\"#f7f7f7\"],[0.6,\"#e6f5d0\"],[0.7,\"#b8e186\"],[0.8,\"#7fbc41\"],[0.9,\"#4d9221\"],[1,\"#276419\"]],\"sequential\":[[0.0,\"#0d0887\"],[0.1111111111111111,\"#46039f\"],[0.2222222222222222,\"#7201a8\"],[0.3333333333333333,\"#9c179e\"],[0.4444444444444444,\"#bd3786\"],[0.5555555555555556,\"#d8576b\"],[0.6666666666666666,\"#ed7953\"],[0.7777777777777778,\"#fb9f3a\"],[0.8888888888888888,\"#fdca26\"],[1.0,\"#f0f921\"]],\"sequentialminus\":[[0.0,\"#0d0887\"],[0.1111111111111111,\"#46039f\"],[0.2222222222222222,\"#7201a8\"],[0.3333333333333333,\"#9c179e\"],[0.4444444444444444,\"#bd3786\"],[0.5555555555555556,\"#d8576b\"],[0.6666666666666666,\"#ed7953\"],[0.7777777777777778,\"#fb9f3a\"],[0.8888888888888888,\"#fdca26\"],[1.0,\"#f0f921\"]]},\"colorway\":[\"#636efa\",\"#EF553B\",\"#00cc96\",\"#ab63fa\",\"#FFA15A\",\"#19d3f3\",\"#FF6692\",\"#B6E880\",\"#FF97FF\",\"#FECB52\"],\"font\":{\"color\":\"#2a3f5f\"},\"geo\":{\"bgcolor\":\"white\",\"lakecolor\":\"white\",\"landcolor\":\"#E5ECF6\",\"showlakes\":true,\"showland\":true,\"subunitcolor\":\"white\"},\"hoverlabel\":{\"align\":\"left\"},\"hovermode\":\"closest\",\"mapbox\":{\"style\":\"light\"},\"paper_bgcolor\":\"white\",\"plot_bgcolor\":\"#E5ECF6\",\"polar\":{\"angularaxis\":{\"gridcolor\":\"white\",\"linecolor\":\"white\",\"ticks\":\"\"},\"bgcolor\":\"#E5ECF6\",\"radialaxis\":{\"gridcolor\":\"white\",\"linecolor\":\"white\",\"ticks\":\"\"}},\"scene\":{\"xaxis\":{\"backgroundcolor\":\"#E5ECF6\",\"gridcolor\":\"white\",\"gridwidth\":2,\"linecolor\":\"white\",\"showbackground\":true,\"ticks\":\"\",\"zerolinecolor\":\"white\"},\"yaxis\":{\"backgroundcolor\":\"#E5ECF6\",\"gridcolor\":\"white\",\"gridwidth\":2,\"linecolor\":\"white\",\"showbackground\":true,\"ticks\":\"\",\"zerolinecolor\":\"white\"},\"zaxis\":{\"backgroundcolor\":\"#E5ECF6\",\"gridcolor\":\"white\",\"gridwidth\":2,\"linecolor\":\"white\",\"showbackground\":true,\"ticks\":\"\",\"zerolinecolor\":\"white\"}},\"shapedefaults\":{\"line\":{\"color\":\"#2a3f5f\"}},\"ternary\":{\"aaxis\":{\"gridcolor\":\"white\",\"linecolor\":\"white\",\"ticks\":\"\"},\"baxis\":{\"gridcolor\":\"white\",\"linecolor\":\"white\",\"ticks\":\"\"},\"bgcolor\":\"#E5ECF6\",\"caxis\":{\"gridcolor\":\"white\",\"linecolor\":\"white\",\"ticks\":\"\"}},\"title\":{\"x\":0.05},\"xaxis\":{\"automargin\":true,\"gridcolor\":\"white\",\"linecolor\":\"white\",\"ticks\":\"\",\"title\":{\"standoff\":15},\"zerolinecolor\":\"white\",\"zerolinewidth\":2},\"yaxis\":{\"automargin\":true,\"gridcolor\":\"white\",\"linecolor\":\"white\",\"ticks\":\"\",\"title\":{\"standoff\":15},\"zerolinecolor\":\"white\",\"zerolinewidth\":2}}},\"xaxis\":{\"anchor\":\"y\",\"domain\":[0.0,1.0],\"title\":{\"text\":\"x\"}},\"yaxis\":{\"anchor\":\"x\",\"domain\":[0.0,1.0],\"title\":{\"text\":\"y\"}},\"legend\":{\"tracegroupgap\":0},\"margin\":{\"t\":60},\"barmode\":\"relative\"},                        {\"responsive\": true}                    ).then(function(){\n",
              "                            \n",
              "var gd = document.getElementById('8a152fd6-11f6-4345-9817-19b76f4452fc');\n",
              "var x = new MutationObserver(function (mutations, observer) {{\n",
              "        var display = window.getComputedStyle(gd).display;\n",
              "        if (!display || display === 'none') {{\n",
              "            console.log([gd, 'removed!']);\n",
              "            Plotly.purge(gd);\n",
              "            observer.disconnect();\n",
              "        }}\n",
              "}});\n",
              "\n",
              "// Listen for the removal of the full notebook cells\n",
              "var notebookContainer = gd.closest('#notebook-container');\n",
              "if (notebookContainer) {{\n",
              "    x.observe(notebookContainer, {childList: true});\n",
              "}}\n",
              "\n",
              "// Listen for the clearing of the current output cell\n",
              "var outputEl = gd.closest('.output');\n",
              "if (outputEl) {{\n",
              "    x.observe(outputEl, {childList: true});\n",
              "}}\n",
              "\n",
              "                        })                };                            </script>        </div>\n",
              "</body>\n",
              "</html>"
            ]
          },
          "metadata": {}
        }
      ]
    },
    {
      "cell_type": "markdown",
      "source": [
        "\n",
        "NCBI - GenBank\n",
        "---\n",
        "\n"
      ],
      "metadata": {
        "id": "GJfIYjq91plS"
      }
    },
    {
      "cell_type": "code",
      "source": [
        "seq_handle = Entrez.efetch(db='nucleotide', rettype='gb', id='45478711')"
      ],
      "metadata": {
        "id": "BS7Wv41KhTuL"
      },
      "execution_count": 88,
      "outputs": []
    },
    {
      "cell_type": "code",
      "source": [
        "seq_record = SeqIO.parse(seq_handle, 'gb')"
      ],
      "metadata": {
        "id": "7AO6gzDi1mSV"
      },
      "execution_count": 89,
      "outputs": []
    },
    {
      "cell_type": "code",
      "source": [
        "SeqIO.write(seq_record, 'NC_005816.gb', 'gb')"
      ],
      "metadata": {
        "colab": {
          "base_uri": "https://localhost:8080/"
        },
        "id": "QAKTMy7i1m-g",
        "outputId": "0984dcb4-0cab-4b44-d159-ab7b9bb15eb6"
      },
      "execution_count": 90,
      "outputs": [
        {
          "output_type": "execute_result",
          "data": {
            "text/plain": [
              "1"
            ]
          },
          "metadata": {},
          "execution_count": 90
        }
      ]
    },
    {
      "cell_type": "code",
      "source": [
        "with open('NC_005816.gb', 'r') as gb_file:\n",
        "  gb = SeqIO.read(gb_file, 'gb')\n",
        "  # for s in SeqIO.parse(gb_file, 'gb'):\n",
        "  #   print(s)"
      ],
      "metadata": {
        "id": "n876WPkP1nHb"
      },
      "execution_count": 91,
      "outputs": []
    },
    {
      "cell_type": "code",
      "source": [
        "gb"
      ],
      "metadata": {
        "colab": {
          "base_uri": "https://localhost:8080/"
        },
        "id": "R6dBN-Wt1nPX",
        "outputId": "74b8f24f-0ad2-4675-da67-5ca0def7f964"
      },
      "execution_count": 93,
      "outputs": [
        {
          "output_type": "execute_result",
          "data": {
            "text/plain": [
              "SeqRecord(seq=Seq(None, length=9609), id='NC_005816.1', name='NC_005816', description='Yersinia pestis biovar Microtus str. 91001 plasmid pPCP1, complete sequence', dbxrefs=['BioProject:PRJNA224116', 'BioSample:SAMN02602970', 'Assembly:GCF_000007885.1'])"
            ]
          },
          "metadata": {},
          "execution_count": 93
        }
      ]
    },
    {
      "cell_type": "code",
      "source": [
        "from Bio import SeqIO\n",
        "from Bio.KEGG import REST"
      ],
      "metadata": {
        "id": "Zy91Zwhw1nW2"
      },
      "execution_count": 94,
      "outputs": []
    },
    {
      "cell_type": "code",
      "source": [
        "result = REST.kegg_info(\"kegg\").read()"
      ],
      "metadata": {
        "id": "_cnDretE1neV"
      },
      "execution_count": 95,
      "outputs": []
    },
    {
      "cell_type": "code",
      "source": [
        "print(result)"
      ],
      "metadata": {
        "colab": {
          "base_uri": "https://localhost:8080/"
        },
        "id": "tTiFT6c71nlx",
        "outputId": "fb0f0b87-c767-474f-9eda-43471fde64a7"
      },
      "execution_count": 97,
      "outputs": [
        {
          "output_type": "stream",
          "name": "stdout",
          "text": [
            "kegg             Kyoto Encyclopedia of Genes and Genomes\n",
            "kegg             Release 103.0+/08-10, Aug 22\n",
            "                 Kanehisa Laboratories\n",
            "                 pathway     949,934 entries\n",
            "                 brite       322,345 entries\n",
            "                 module          536 entries\n",
            "                 orthology    25,293 entries\n",
            "                 genome       20,149 entries\n",
            "                 genes     42,949,938 entries\n",
            "                 compound     18,962 entries\n",
            "                 glycan       11,087 entries\n",
            "                 reaction     11,802 entries\n",
            "                 rclass        3,180 entries\n",
            "                 enzyme        8,005 entries\n",
            "                 network       1,375 entries\n",
            "                 variant         458 entries\n",
            "                 disease       2,577 entries\n",
            "                 drug         11,938 entries\n",
            "                 dgroup        2,398 entries\n",
            "\n"
          ]
        }
      ]
    },
    {
      "cell_type": "code",
      "source": [
        "result = REST.kegg_info(\"pathway\").read()"
      ],
      "metadata": {
        "id": "SkPaE_TR1ntX"
      },
      "execution_count": 98,
      "outputs": []
    },
    {
      "cell_type": "code",
      "source": [
        "print(result)"
      ],
      "metadata": {
        "colab": {
          "base_uri": "https://localhost:8080/"
        },
        "id": "CydgKBV41n0K",
        "outputId": "3414ae0e-e490-4524-efcb-568146e5f078"
      },
      "execution_count": 99,
      "outputs": [
        {
          "output_type": "stream",
          "name": "stdout",
          "text": [
            "pathway          KEGG Pathway Database\n",
            "path             Release 103.0+/08-10, Aug 22\n",
            "                 Kanehisa Laboratories\n",
            "                 949,934 entries\n",
            "\n",
            "linked db        module\n",
            "                 ko\n",
            "                 <org>\n",
            "                 genome\n",
            "                 compound\n",
            "                 glycan\n",
            "                 reaction\n",
            "                 rclass\n",
            "                 enzyme\n",
            "                 network\n",
            "                 disease\n",
            "                 drug\n",
            "                 pubmed\n",
            "\n"
          ]
        }
      ]
    },
    {
      "cell_type": "code",
      "source": [
        "result = REST.kegg_find(\"disease\", \"covid\").read()"
      ],
      "metadata": {
        "id": "DoYQyNau5CR-"
      },
      "execution_count": 105,
      "outputs": []
    },
    {
      "cell_type": "code",
      "source": [
        "print(result)"
      ],
      "metadata": {
        "colab": {
          "base_uri": "https://localhost:8080/"
        },
        "id": "_sI46gRN5CKb",
        "outputId": "de92e08d-6c51-46f6-ad49-ecee54838563"
      },
      "execution_count": 106,
      "outputs": [
        {
          "output_type": "stream",
          "name": "stdout",
          "text": [
            "ds:H02398\tCOVID-19; Coronavirus disease 2019\n",
            "\n"
          ]
        }
      ]
    },
    {
      "cell_type": "code",
      "source": [
        "result = REST.kegg_find(\"compound\", \"Glutathione\").read()"
      ],
      "metadata": {
        "id": "kf_TL4-P5CEW"
      },
      "execution_count": 107,
      "outputs": []
    },
    {
      "cell_type": "code",
      "source": [
        "print(result)"
      ],
      "metadata": {
        "colab": {
          "base_uri": "https://localhost:8080/"
        },
        "id": "WCxAmRG25Bb8",
        "outputId": "57579c74-dfb4-4c52-bedf-97077433bf5e"
      },
      "execution_count": 109,
      "outputs": [
        {
          "output_type": "stream",
          "name": "stdout",
          "text": [
            "cpd:C00051\tGlutathione; 5-L-Glutamyl-L-cysteinylglycine; N-(N-gamma-L-Glutamyl-L-cysteinyl)glycine; gamma-L-Glutamyl-L-cysteinyl-glycine; GSH; Reduced glutathione\n",
            "cpd:C00127\tGlutathione disulfide; GSSG; Oxiglutatione; Oxidized glutathione\n",
            "cpd:C00920\tCoA-glutathione; Coenzyme A-glutathione mixed disulfide\n",
            "cpd:C01031\tS-Formylglutathione\n",
            "cpd:C02320\tR-S-Glutathione\n",
            "cpd:C02589\tS-Acylglutathione\n",
            "cpd:C02886\tS-Hexyl-glutathione; S-Hexyl-L-glutathione\n",
            "cpd:C03174\tS-Succinylglutathione\n",
            "cpd:C03451\t(R)-S-Lactoylglutathione; S-D-Lactoylglutathione\n",
            "cpd:C03899\tS-(2-Hydroxyacyl)glutathione\n",
            "cpd:C03928\t3-Phosphoglycerol-glutathione\n",
            "cpd:C04572\tS-(N-Hydroxy-N-methylcarbamoyl)glutathione\n",
            "cpd:C11175\tS-(2,4-Dinitrophenyl)glutathione\n",
            "cpd:C11302\tS-Octyl GSH; S-Octyl glutathione\n",
            "cpd:C11303\tS-Decyl GSH; S-Decyl glutathione\n",
            "cpd:C11304\tS-(PGA1)-glutathione\n",
            "cpd:C11315\tS-(4-Azidophenacyl)glutathione; S-(p-Azidophenacyl)glutathione\n",
            "cpd:C11347\tS-Methyl GSH; S-Methylglutathione\n",
            "cpd:C11367\tGSH-prostaglandin A1; Glutathione-prostaglandin A1 conjugate; PGA1-GS\n",
            "cpd:C11370\tN-Ethylmaleimide-S-glutathione\n",
            "cpd:C14180\tS-(Hydroxymethyl)glutathione\n",
            "cpd:C14861\tS-(2,2-Dichloro-1-hydroxy)ethyl glutathione\n",
            "cpd:C14862\t2-S-Glutathionyl acetate; S-(Carboxymethyl)glutathione\n",
            "cpd:C14863\t2-(S-Glutathionyl)acetyl glutathione\n",
            "cpd:C14864\tS-(2-Chloroacetyl)glutathione\n",
            "cpd:C14868\tS-(1,2-Dichlorovinyl)glutathione; DCVG\n",
            "cpd:C14871\tS-(Formylmethyl)glutathione\n",
            "cpd:C14874\tGlutathione episulfonium ion\n",
            "cpd:C14875\tS-(2-Hydroxyethyl)glutathione\n",
            "cpd:C17267\tS-Sulfanylglutathione; Glutathione hydrodisulfide\n",
            "cpd:C18870\tSelenodiglutathione; GSSeSG\n",
            "cpd:C19689\tGlutathione amide; L-gamma-Glutamyl-L-cysteinylglycinamide\n",
            "cpd:C19690\tGlutathione amide disulfide\n",
            "cpd:C20304\tS-(2-Chloroethyl)glutathione\n",
            "cpd:C21539\t(E)-1-(Glutathione-S-yl)-omega-(methylthio)alkylhydroximate; S-[(1E)-1-(Hydroxyimino)-omega-(methylsulfanyl)alkyl]-L-glutathione\n",
            "cpd:C21563\t2-(Glutathione-S-yl)-hydroquinone\n",
            "cpd:C21620\tS-[(E)-N-Hydroxy(indol-3-yl)acetimidoyl]-L-glutathione\n",
            "cpd:C21622\tS-[(Z)-N-Hydroxy(phenyl)acetimidoyl]-L-glutathione\n",
            "cpd:C21664\t(Glutathione-S-yl)(1H-indol-3-yl)acetonitrile\n",
            "cpd:C21787\tS-Sulfinatoglutathione\n",
            "cpd:C21858\tN-(4-Oxoglutaryl)-L-cysteinylglycine; Deaminated glutathione\n",
            "cpd:C22431\tArsenic triglutathione\n",
            "cpd:C22462\tS-(Methylsulfanyl)glutathione; S-Methylthio glutathione\n",
            "\n"
          ]
        }
      ]
    },
    {
      "cell_type": "code",
      "source": [
        "result = REST.kegg_get(\"cpd:C00051\").read()"
      ],
      "metadata": {
        "id": "JTQzgTGQ6GeY"
      },
      "execution_count": 110,
      "outputs": []
    },
    {
      "cell_type": "code",
      "source": [
        "print(result)"
      ],
      "metadata": {
        "colab": {
          "base_uri": "https://localhost:8080/"
        },
        "id": "-v7IzOAk6GXl",
        "outputId": "040aeae3-62e6-4285-ebf5-b43ead0ef067"
      },
      "execution_count": 112,
      "outputs": [
        {
          "output_type": "stream",
          "name": "stdout",
          "text": [
            "ENTRY       C00051                      Compound\n",
            "NAME        Glutathione;\n",
            "            5-L-Glutamyl-L-cysteinylglycine;\n",
            "            N-(N-gamma-L-Glutamyl-L-cysteinyl)glycine;\n",
            "            gamma-L-Glutamyl-L-cysteinyl-glycine;\n",
            "            GSH;\n",
            "            Reduced glutathione\n",
            "FORMULA     C10H17N3O6S\n",
            "EXACT_MASS  307.0838\n",
            "MOL_WEIGHT  307.3235\n",
            "REMARK      Same as: D00014\n",
            "REACTION    R00094 R00115 R00120 R00274 R00494 R00497 R00499 R00527 \n",
            "            R00547 R00900 R01108 R01109 R01110 R01111 R01113 R01262 \n",
            "            R01292 R01736 R01875 R01917 R01918 R02530 R02824 R03059 \n",
            "            R03082 R03167 R03522 R03822 R03915 R03956 R03984 R04039 \n",
            "            R04090 R04860 R05267 R05269 R05402 R05403 R05714 R05717 \n",
            "            R05748 R06982 R07002 R07003 R07004 R07023 R07024 R07025 \n",
            "            R07026 R07034 R07035 R07069 R07070 R07083 R07084 R07091 \n",
            "            R07092 R07093 R07094 R07100 R07113 R07116 R07124 R08280 \n",
            "            R08350 R08351 R08352 R08353 R08354 R08355 R08511 R08512 \n",
            "            R08678 R09338 R09367 R09368 R09409 R11411 R11650 R11652 \n",
            "            R11659 R11734 R11736 R11737 R11739 R11861 R11905 R11929 \n",
            "            R11947 R12578 R12917 R12918 R12919 R12946\n",
            "PATHWAY     map00270  Cysteine and methionine metabolism\n",
            "            map00480  Glutathione metabolism\n",
            "            map01100  Metabolic pathways\n",
            "            map01240  Biosynthesis of cofactors\n",
            "            map02010  ABC transporters\n",
            "            map04216  Ferroptosis\n",
            "            map04918  Thyroid hormone synthesis\n",
            "            map04976  Bile secretion\n",
            "            map05208  Chemical carcinogenesis - reactive oxygen species\n",
            "            map05415  Diabetic cardiomyopathy\n",
            "MODULE      M00118  Glutathione biosynthesis, glutamate => glutathione\n",
            "ENZYME      1.5.4.1         1.8.1.7         1.8.1.9         1.8.1.10        \n",
            "            1.8.3.3         1.8.4.1         1.8.4.2         1.8.4.3         \n",
            "            1.8.4.4         1.8.4.7         1.8.4.9         1.8.5.1         \n",
            "            1.8.5.7         1.8.5.8         1.11.1.9        1.11.1.12       \n",
            "            1.11.1.27       1.13.11.18      1.14.14.43      1.14.14.45      \n",
            "            1.20.4.2        1.21.4.5        2.1.1.137       2.3.2.2         \n",
            "            2.3.2.15        2.5.1.18        2.5.1.-         2.8.1.3         \n",
            "            2.8.4.6         3.1.2.6         3.1.2.7         3.1.2.12        \n",
            "            3.1.2.13        3.4.19.13       3.5.1.78        3.5.1.-         \n",
            "            4.3.2.7         4.4.1.5         4.4.1.20        4.4.1.22        \n",
            "            4.4.1.34        6.3.1.8         6.3.1.9         6.3.2.3\n",
            "BRITE       Compounds with biological roles [BR:br08001]\n",
            "             Vitamins and cofactors\n",
            "              Cofactors\n",
            "               Coenzymes\n",
            "                C00051  Glutathione\n",
            "            Anatomical Therapeutic Chemical (ATC) classification [BR:br08303]\n",
            "             V VARIOUS\n",
            "              V03 ALL OTHER THERAPEUTIC PRODUCTS\n",
            "               V03A ALL OTHER THERAPEUTIC PRODUCTS\n",
            "                V03AB Antidotes\n",
            "                 V03AB32 Glutathione\n",
            "                  D00014  Glutathione (JP18) &lt;JP&gt;\n",
            "            Therapeutic category of drugs in Japan [BR:br08301]\n",
            "             1  Agents affecting nervous system and sensory organs\n",
            "              13  Agents affecting sensory organs\n",
            "               131  Ophthalmic agents\n",
            "                1319  Others\n",
            "                 D00014  Glutathione (JP18)\n",
            "             3  Agents affecting metabolism\n",
            "              39  Other agents affecting metabolism\n",
            "               392  Antidotes\n",
            "                3922  Glutathiones\n",
            "                 D00014  Glutathione (JP18)\n",
            "            Animal drugs in Japan [BR:br08331]\n",
            "             96  Agents affecting metabolism\n",
            "              967  Agents for liver disease and antidotes\n",
            "               9676  Other amino acid and preparations\n",
            "                C00051  Glutathione\n",
            "            Drugs listed in the Japanese Pharmacopoeia [BR:br08311]\n",
            "             Chemicals\n",
            "              D00014  Glutathione\n",
            "DBLINKS     CAS: 70-18-8\n",
            "            PubChem: 3353\n",
            "            ChEBI: 16856\n",
            "            KNApSAcK: C00001518\n",
            "            PDB-CCD: GSH VDW\n",
            "            3DMET: B01138\n",
            "            NIKKAJI: J10.686K\n",
            "ATOM        20\n",
            "            1   O6a O    24.0100  -16.3100\n",
            "            2   C6a C    25.2000  -15.6100\n",
            "            3   C1c C    26.4600  -16.3100\n",
            "            4   C1b C    27.6500  -15.6100\n",
            "            5   C1b C    28.8400  -16.3100\n",
            "            6   C5a C    30.1000  -15.6100\n",
            "            7   N1b N    31.2900  -16.3100\n",
            "            8   C1c C    32.4800  -15.6100\n",
            "            9   C5a C    33.7400  -16.3100\n",
            "            10  N1b N    34.9300  -15.6100\n",
            "            11  C1b C    36.1200  -16.3100\n",
            "            12  C6a C    37.3800  -15.6100\n",
            "            13  O6a O    38.5700  -16.3100\n",
            "            14  O6a O    25.2000  -14.2100\n",
            "            15  N1a N    26.4600  -17.7100\n",
            "            16  O5a O    30.1000  -14.2100\n",
            "            17  C1b C    32.4800  -14.2100\n",
            "            18  S1a S    33.6700  -13.5100\n",
            "            19  O5a O    33.7400  -17.7100\n",
            "            20  O6a O    37.3800  -14.2100\n",
            "BOND        19\n",
            "            1     1   2 1\n",
            "            2     2   3 1\n",
            "            3     3   4 1\n",
            "            4     4   5 1\n",
            "            5     5   6 1\n",
            "            6     6   7 1\n",
            "            7     7   8 1\n",
            "            8     8   9 1\n",
            "            9     9  10 1\n",
            "            10   10  11 1\n",
            "            11   11  12 1\n",
            "            12   12  13 1\n",
            "            13    2  14 2\n",
            "            14    3  15 1 #Down\n",
            "            15    6  16 2\n",
            "            16    8  17 1 #Up\n",
            "            17   17  18 1\n",
            "            18    9  19 2\n",
            "            19   12  20 2\n",
            "///\n",
            "\n"
          ]
        }
      ]
    },
    {
      "cell_type": "code",
      "source": [
        "result = REST.kegg_get(\"cpd:C00051\", \"image\").read()"
      ],
      "metadata": {
        "id": "4RgG4a_x6GQw"
      },
      "execution_count": 125,
      "outputs": []
    },
    {
      "cell_type": "code",
      "source": [
        "print(result)"
      ],
      "metadata": {
        "colab": {
          "base_uri": "https://localhost:8080/"
        },
        "id": "J5lp4NZu7iAF",
        "outputId": "1f18fbf5-c2f2-4d2a-9d15-ec814b487ffb"
      },
      "execution_count": 127,
      "outputs": [
        {
          "output_type": "stream",
          "name": "stdout",
          "text": [
            "b'GIF87a\\x02\\x01p\\x00\\xe7\\x00\\x00\\x00\\x00\\x00\\xaf\\xaf\\xaf\\xab\\xab\\xab\\xa9\\xa9\\xa9\\x9f\\x9f\\x9f\\x9d\\x9d\\x9d\\x99\\x99\\x99\\x97\\x97\\x97\\x91\\x91\\x91\\x8d\\x8d\\x8d\\x8b\\x8b\\x8b\\x83\\x83\\x83\\x81\\x81\\x81\\x7f\\x7f\\x7f{{{yyyuuusssqqqkkkccc___YYY\\xfe\\xfe\\xfe\\xfc\\xfc\\xfcIII\\xfa\\xfa\\xfa\\xf8\\xf8\\xf8EEE\\xf6\\xf6\\xf6CCCAAA\\xf2\\xf2\\xf2===;;;\\xec\\xec\\xec\\xea\\xea\\xea777\\xe8\\xe8\\xe8555\\xe6\\xe6\\xe6333\\xe4\\xe4\\xe4111\\xe2\\xe2\\xe2///---\\xde\\xde\\xde+++\\xdc\\xdc\\xdc)))\\xda\\xda\\xda\\'\\'\\'\\xd8\\xd8\\xd8\\xd6\\xd6\\xd6###!!!\\xd2\\xd2\\xd2\\x1f\\x1f\\x1f\\xd0\\xd0\\xd0\\x1b\\x1b\\x1b\\xcc\\xcc\\xcc\\x19\\x19\\x19\\xca\\xca\\xca\\x17\\x17\\x17\\xc8\\xc8\\xc8\\x15\\x15\\x15\\xc6\\xc6\\xc6\\x13\\x13\\x13\\x11\\x11\\x11\\xc0\\xc0\\xc0\\r\\r\\r\\xbe\\xbe\\xbe\\x0b\\x0b\\x0b\\t\\t\\t\\xba\\xba\\xba\\x07\\x07\\x07\\x05\\x05\\x05\\xb6\\xb6\\xb6\\x03\\x03\\x03\\xb4\\xb4\\xb4\\x01\\x01\\x01\\xb0\\xb0\\xb0\\xae\\xae\\xae\\xa6\\xa6\\xa6\\xa4\\xa4\\xa4\\xa2\\xa2\\xa2\\xa0\\xa0\\xa0\\x9c\\x9c\\x9c\\x98\\x98\\x98\\x92\\x92\\x92\\x90\\x90\\x90\\x8e\\x8e\\x8e\\x8c\\x8c\\x8c\\x8a\\x8a\\x8a\\x88\\x88\\x88\\x86\\x86\\x86\\x84\\x84\\x84\\x80\\x80\\x80~~~|||xxxvvvtttrrrpppnnnfffdddbbb```^^^\\\\\\\\\\\\VVVTTTRRR\\xff\\xff\\xffLLL\\xfd\\xfd\\xfd\\xfb\\xfb\\xfbHHHFFF\\xf7\\xf7\\xf7DDD\\xf5\\xf5\\xf5BBB\\xf3\\xf3\\xf3@@@\\xf1\\xf1\\xf1>>>\\xef\\xef\\xef\\xe9\\xe9\\xe9666\\xe5\\xe5\\xe5222\\xe3\\xe3\\xe3000\\xe1\\xe1\\xe1\\xdf\\xdf\\xdf\\xdd\\xdd\\xdd***\\xdb\\xdb\\xdb(((\\xd9\\xd9\\xd9&&&\\xd7\\xd7\\xd7$$$\\xd5\\xd5\\xd5\\xd3\\xd3\\xd3   \\xd1\\xd1\\xd1\\x1e\\x1e\\x1e\\xcf\\xcf\\xcf\\x1c\\x1c\\x1c\\xcd\\xcd\\xcd\\x1a\\x1a\\x1a\\xcb\\xcb\\xcb\\x18\\x18\\x18\\xc9\\xc9\\xc9\\xc7\\xc7\\xc7\\x14\\x14\\x14\\xc5\\xc5\\xc5\\x12\\x12\\x12\\x10\\x10\\x10\\xc1\\xc1\\xc1\\x0e\\x0e\\x0e\\xbf\\xbf\\xbf\\x0c\\x0c\\x0c\\xbd\\xbd\\xbd\\x06\\x06\\x06\\xb7\\xb7\\xb7\\x04\\x04\\x04\\xb5\\xb5\\xb5\\xb3\\xb3\\xb3\\x00\\x00\\x00\\x00\\x00\\x00\\x00\\x00\\n\\x00\\x00\\x00\\x00\\x00\\x00\\x00\\x00\\x00\\x00\\x00\\x00\\x00\\x00\\x00\\x00\\x00\\x00\\x00\\x00\\x00\\x00\\x00\\x00\\x00\\x00\\x00\\x00\\x00\\x00\\x00\\x00\\x00\\x00\\x00\\x00\\x00\\x004\\x00\\x00\\x00\\x00\\x00\\xdc\\x00\\x00\\x00\\x00\\x00\\x00\\x00\\x00\\x00\\x00\\x00\\xc8\\x00\\x00\\xb0\\x00\\x00\\x00\\x00\\x00p\\x00\\x00l\\x00\\x00\\xff\\x00\\x00\\x00\\x00\\x00\\xc8\\x00\\x008\\x00\\x00`\\x00\\x00\\x01\\x00\\x00r\\x00\\x00b\\x00\\x00.\\x00\\x001\\x00\\x00S\\x00\\x00F\\x00\\x00/\\x00\\x00/\\x00\\x00\\x01\\x00\\x00r\\x00\\x00.\\x00\\x00\\x84\\x00\\x00\\x00\\x00\\n\\x94\\x00\\x00\\x84\\x00\\xdal\\x00\\x00\\x98\\x00\\x00\\x9c\\x00\\x00\\x00\\x00\\xb0\\x00\\x00\\x00\\x00\\x00\\x00D\\x00\\x00\\x00\\x00\\x00\\x00\\x00\\x00\\x00\\x00\\x00D\\x00\\x00\\x80\\x00\\x00\\x00\\x00\\x00\\xf0\\x00\\x00@\\x00\\x00\\xf4\\x00\\x00\\xc8\\x00\\x00\\x00\\x00\\x00\\x00\\x00\\x00\\x00\\x00\\x00\\x00\\x00\\x00\\x00\\x00\\x00\\x00\\x00\\x00\\x00\\x00\\x00\\x00\\x00\\x00l\\x00\\x00\\x06\\x00\\x00\\x00\\x00\\x00\\x00\\x00\\x00\\x00\\x00\\x00\\xba\\x00\\x00\\xed\\x00\\x00\\x01\\x00\\x00\\x00\\x00\\x00\\x02,\\x00\\x00\\x00\\x00\\x02\\x01p\\x00\\x00\\x08\\xfe\\x00\\xe9\\x08\\x1cH\\xb0\\xa0\\xc1\\x83\\x08\\x13*\\\\\\xc8\\xb0\\xa1\\xc3\\x87\\x10#J\\x9cH\\xb1\\xa2\\xc5\\x8b\\x183j\\xdc\\xc8\\xb1\\xa3\\xc7\\x8f C\\x8a\\x1cI\\xb2\\xa4\\xc9\\x93(S\\xaa\\\\\\xc9\\xb2\\xa5\\xcb\\x970c\\xca\\x9cI\\xb3\\xa6\\xcd\\x9b8s\\xea\\xdc\\xc9\\xb3\\xa7\\xcf\\x9f@\\x83\\n\\x1dJ\\xb4\\xa8\\xd1\\xa3H\\x93\\xa6\\xd40C\\x0f\\xc1;v\\x08\\xda\\xd1\\xa0\\xb4\\xaaU\\x88 \\xe24\\x01\\xf0$\\x04\\x0b\\x81>\\xb4\\x10\\xb4\\xa2\\xe4\\xaa\\xd9\\xb3\\x079\\xd4\\xf1\\xd4a\\x07\\x1c\\x1e\\x1d\\xe8\\x84\\x1d[\\x16\\xad\\xdd\\xb3\\x92\\xcc\\x0c\\xd4#E\\x90\\\\\\xb1\\x03\\xc9\\xde\\x1dlu\\x0b\\x80<\\x07\\x14\\x11\\xf4\\xe1f\\x80\\xe3\\x01\\x13\\xea\\x12\\x9e|\\xb4J\\n\\x00\\x00RX\\x02\\x9b*\\x89\\xe7$L$S\\x1eM\\x14E\\x01\\x17Gj\\xfc\\xa5K\\xba\\xf5\\xcf\\x17^\\x08n\\xc0\\xf1eu`\\xd1\\xaes\\xdfL\\x04\\x80\\x13AB`l\\x0b\\x14\\xac\\xbb\\xf8L@h\\x04\\x06\\xe2!e\\xd0\\x8b\\x06L(\\t\\xa7C\\xdc\\xb8F=\\x8d.\\x0c\\xc5\\xae\\xfd\\xe4\\x85+\\x9d(\\xfe\\x08\\xe4SA\\x14\\x80(2H\\x81\\x05<\\x1cwH\\xeeg#\\x85x\\xf2\\x04T\\x1c\\x1b?\\xe5\\xd3\\xb7\\x8f\\x9fd\\x8f\\x12\\x84\\xf8V\\x10\\n\\x80\\xc0\\xa4_}\\xf7Y5\\xc4(c|\\xa2\\xc1\\x0ej\\x94\\xe2DO\\x0b6\\xf8`\\x84\\x13\\x86D\\x02\\x05@\\x10\\xd0\\x9dM\\x15:\\x08\\xa1\\x84Ja\\x90\\t\\x03\\x05A\\x80\\x08O&\\xa2H\\x90\\x8a \\xdd\\x81\\x00\\x11h\\x14\\x88S\\x8b)\\xae\\x98\\xd4\"\\xbd\\x15$\\xc5*q\\xe9\\xc4\\xa3\\x80\\x03\\xfd\\x18$GH\\xc0\\xb0G$;\\r\\xe9#\\x90I-\\x01\\xc0 \\x05=\\xd2\\xa3NRRI\\x90\\x95Df\\x04\\x88\\x1c:L\\xd1S\\x96U^y\\x14%\\x00\\xc4PP\\x10S\\xee\\x84\\xa6\\x9a\\x04\\xb1\\xa9\\xe5E\\xa14\\xd0\\x80\\x07\\x7f8\\x10JOo\\xae\\xd9&Rv\\x9c\\x12@AX\\\\\\xc2S\\xa0\\x83\\x12T\\xa8FT`\\xe6(\\x15=!J\\xa8\\xa1J\\xcdQ\\xc2\\x87w\\xd0PAO\\x96b\\xaa\\xa9F\\x9a8\\x8a\\x99&\\x1bA%\\x15U\\x1au:P\\xa6\\x9b*%\\x88#\\xfeuL\\xf2\\xe0\\x07+\\xd8\\xb8\\xd3\\xab\\xb1\\xceZ\\xabF \\x88\\n\\x00\\x08\\x1b\\xcdu\\xdbF\\xb8\\xca\\xba\\x03\\xad\\xb6&\\xf5\\x02\\x1c\\x9dD\\xd1\\x89\\x05&\\xbc\\xc6\\xac\\xb3\\xd0r\\xe4\\x83\\xa3>X\\xcb\\x1eu\\xeeY\\xb4l\\xb3\\xcfF{V!E\\x91\\xeb\\xd1\\x1f\\x8e\\xfe\\xa1-k\\x1e\\x99{\\x16\\x00\\x03\\xc1\\x0b\\x94\\xbct\\xd0\\xab\\xd1\\x1a\\x8e\\xaeamc\\x8fE\\xd6\\x11\\xbd\\xf6V\\x05pP\\x03s\\x94\\x80\\xa3\\tX\\xdb\\xd9g\\xa1\\xfd\\x1b\\xef\\xbb\\x0f\\xcf\\x1b\\xf1F\\xad8\\xda\\xca\\xba\\xc3rT\\xf0U\\x1b\\xfb\\xd4qFVb\\xf6\\x08\\xc6\\xed9,P\\xc0J}\\xcc\\x93\\xca\\x17\\xdd\\xb1\\n\\x00\\xab\\xdcA2\\xb7&\\xd7\\x0b\\xf1\\xc9\\x04O\\xbc\\x11$\\x00@\\xd2\\x91\\xb0%k\\xac\\xb3\\xc0C\\xaf\\\\4Fu\\x00P\\xc7\\xcf\\xdbV\\xa7\\x11\\xcbHA\\x9d\\x93\\xd4\\x15E\\x00@\\x04BQ]\\x94\\xd66q-\\x91\\x01\\x00\\x18\\xd0\\x91\\x06Q\\rt\\x01\\xaa\\x1by\\x9d\\xf5\\xd1:\\xa9\\r\\x91\\x11\\x00\\x18\\xd1Q\\x11\"\\x94M\\x87\\x14\\xddZ\\xe4\\xb6\\xfe\\xc48\\xf3msG(\\x00\\x80\\xc2\\xdcM(Pd\\xde\\x15\\xed\\xfd\\x93\\xe201\\xde\\xd0&\\x1e\\x15aF\\x12\\xfd\\xe1]3\\xcaI9\\xee\\x92\\xe6\\x0b\\xe9;\\xf7\\x00g\\x9c \\xb3\\xe5B\\xf7\\xcd1\\x1d*\\xfc\\xed\\xd1! \\xc1\\xcb:\\xe6\\x18]\\x11\\xf9\\x00|\\xe0\\x10\\xc6\\xdd\\x88S\\xe4\\xba\\xeaV\\x95\\xc1@\\x11\\x0e`\\xdd\\x91\\x1e\\xbf3\\xe0TG\\x118 \\n\\x03e\\x0c\\xcf\\xc0(\\x0e\\x00\\xbbQ\\x11\\x03\\xd0\\xb1D*\\x96\\x90\\xbe\\xd1\\x03\\xca3\\xe0\\x80Y\\x01T\"\\xc7!\\x15t\\x92\\x05\\x06\\x1b\\x85/\\x07\\x0b`&\\x9a\\x11\\x06\\x07tR\\x81\\n\\xed\\xa7/>\\xf9\\xe6\\xa3\\x9f\\x11\\xf5\\x02\\xbd\\x81\\x88\\x00\\xb9\\x8b\\x08\\xfc\\xe4G?\\x1d\\xb8\\x0f)\\x91\\xe0\\x00#P1\\x10L\\xf4A\\x06P\\xc0H\\x02\\x178\\x10$0bI\\x18\\x81\\x82#<\\x80\\x89\\n^\\x90I\\x16\\x99 \\x03\\x05\\xe2@\\x08\\xee\\xafzt\\x18\\x81\\x10\\x0c\\x11\\xc0\\x87h\\x90\\x83\\x1e\\xc4\\xa0Q\\x90C\\x84-\\xc8\\xac P\\x90A\\x1f:8\\x11\\x1a\\xda\\xb0 \\xfe2\"\\x82\\x04\\x92\\x05\\x91\\x12\\xb2\\xc2 A\\x1cb\\x0f\\xd1P\\xc3\\x1b\\x12$\\x87;\\xa4\\x88\\x8d\\xf8\\'\\x90*\\x00\\xa0.J\\x9c\\x88\\x11\\x918\\xa3,\\xaa\\xc4T\\x03\\x99\\x8aA\\xe0S\\x90\\xef\\x84\\x87\\x04\\t\\xc1@\\x16\\x80\\xf0\\x86\\xd4=\\xc4\\x8c\\x14@#BH\\xc0\\x86\\x0e}\\xa8!*x\\x03\\x10\\xce\\x97\\x10:\\xdaq d#\\xc8\\xd9\\x04\\t\\x9e8\\xa6q\\x8dm\\x84\\x88\\x19\\x05BE\\x81\\xe0\\xa1.u\\xf4\\x10D\\xf2\\xb8G\\xfd\\x1d\\xc4\\x8f\\x92,\\x08\\x19We7:\\x88q\"@\\xa3\\xd9@\\x0e\\xc4\\x9f\\x81\\xfc\\'@\\r\\xf1\\x03\\x19\\x80\\'\\xbd\\x85\\x9c\\xb2K\\tyeC@\\xe0\\x80\"\\x90\\xc1\\x0f\\r\\x91%\\x1d\\xe8f7\\xed\\xe9r!\\xaade.\\x01\\x04K\\x84\\xfcR!\\xb4\\xb4%.\\x19\\xf2KR&h=\\xec\\x92H(\\xab\\x13\\xa2\\x0b\\x91\\x88\\x0e\\x7f|\\x88\\n\\xcaw\\x00K\\x1adC\\xd9l\\xc8w\\x80\\xd0\\x069\\x1eD\\x8d\\x04T\\xe4\\x15\\x80\\xc0\\xc8\\xc2\\x1dN \\x1c\\xca\\xa4C\\xb6\\xd9\\x89n\\xf61\\x9ew\\xfe\\\\\\xc88\\xcby\\xc8t\\xbeq\\x9d\\x02\\xa9\\xe6\\x8824\\xcd\\x16\"\\xa4\\xa0\\x02\\xc1\\xd1\\x8btD\\xc4\\x87`\\xc2\\x03\\x8e\\x88 \\x10gT\\xa3\\x89\\x80 \\x02\\xa2\\xf8!\\x0eu\\xc8C\\x89HOr\\x94\\x13\\x08\\xe9*\\xaaE\\x88J\\xf4)\\x14m\\xe8,1\\xaa\\xd1\\'r\\x94\"\\xc0R\\xe8@`4\\x1d\\xa7A\\x841\\x8f\\x81L]\\x9cD\\x10#a\\x84\\x15/\\x15H\\x92dX\\x91\\x1ap@\\x06#\\xa4C\\tOj\\x11\\xea\\x85nt\\x06m\\x08P\\xa3(T%\\x81\\xb0\\xa8GM\\xeaR1\\xc2\\xd3\"A\\t\\xa7\\xfd\\x8a\\xaaA|\\xb00\\xcf4\\xccz\\x7f\\x1a\\x08\\x97\\xde\\x87\\xc8C\\x80IL\\x1a\\x91\\x82\\x0e\\xe6@\\xbeJj\\x84z\\xb5\\xbb\\x9d\\xf60\\xa2F6\\xba5L\\x1b\\x91+]+`W\\x8c\\x90iK=\"\\xebg@#\\xd6\\x82 \\x94\\x0e}\\x8aSZ1\\xa2\\xca\\xe5\\x1do#\\x1bX\\x80(\\x1c\\xb0\\xcc\\xbbV\\xefz\\xd9klC\\x1e@\\x86\\xe5}\\x8f#\\x99\\xddlg1\\x12\\xd9\\x81\\xc8\\xa9\\xa6\\xa2\\x1d\\xfe\\xc8c%\\xa5(Jq\\xc4\\x8d\\x1f\\xc1\\xed\\xf4P\\xe8?\\x00:,u\\xb0\\xbb\\x88n3B\\xdb\\x81,\\n\\xb6\\x14y,\\x1dT%\\x10Vu\\xc4\\x10\\x000\\xc4O\\xa8\\xa8B\\x16^\\xce\\'\\xcc\\xa5\\x83s\\x91\\x0b\\xca\\xa6I\\xa6X\\xbaR)i\\x1ai\\xc5\\xd8.\\x84s)\\x01\\xef\\xb1v\\xc5]iz\\x97 \\xdf\\xa2\\x96\\xb8\\x8c\\x03\\n\\x14\\n$\\x03G\\xb8\\xaeO\\xe2\\x1b.\\xd9\\xbeW$\\xee\\xea\\x88)\\x1ce\\n\\x9f\\x80Q \\x9fL\\x1b\\xdbt\\x12`\\xeb\\xc8D\\xb9O[\\xb0\\x83\\'\\xec\\x10\\x08g\\x04\\xbd\\x14\\xeeH\\xd20\\xb3\\xb4\\x9eX\\x18#\\x18\\xce\\xb0q\\xc0\\xea\\x18\\x7f\\x95\\x8ew\"N\\xf1B\\x14\\xcb0\\xf3*$\\xc4*\\xb6\\xc8\\x08|5\\x02\\x0f\\xffW\\xc1\\xa6\\x8b\\xb1\\x8e\\xc7z\\xe3\\x08\\xe7x\\xc7@n\\xaf\\x8fQ\\x1c\\xe4\\x91\\x04\\xd2l\\xa8:\\xb0\\'\\xd1\\x06\\x93\\x0fcd\\x93E.\\t/\\xdf)\\xe4\\x978\\xb9\"\\xce\\xecO\\x94GR\\x04w\\x8a\\xb4.W6\\x8b@1\\xb4e.O\\xaer`\\xee\\xb1\\xfe]d*\\x10\\x9a\\x96\\x19$N\\x15\\x1d\\xee\\xc0\\xc2\\xaf\\x12\\xbb8(]\\x15)\\x94\\xde\\xfc\\x11\\xbc\\xdan\\xcer)+c\\'sX\\xb5\\x9a\\x89\\xcf\\x1c\\xe1\\x1fhI\\xa7\\xdc.\\x94\\xe0\\x04d0Kk\\x05\\xf2ZD\\x7f\\xae\\x7f\\xffK3\\xbbl\\xd0\\x02=\\xdc\\xa1\\x0fIUJq\\x05r\\\\K\\'\\x1a\\x85\\xd5\\xd5t\\xc6\\n1\\t\\x81\\xb8\\x81\\x0bf\\xc9\\xeevM\\xbd\\xdb\\x81\\x94\\x17\\x9a\\x19\\x1b\\x88\\r|\\xc0\\xba\\xab\\xa8\\x17Y\\xb4>5A\\x1e\\x89\\xeb\\xa0\\t$\\x077P\\x05Z\\xf8[\\xad`\\xc3\\xe4\\x07\\x97@\\x02a\\x1a\\xec\\xec\\x96\\xa8\\x80\\x07\\xc5\\xac\\xb6\\xb6\\x11\\x92\\x86&\\x88\\xe2\\xdbb\\xd8\\xb6\\xb8\\xc7M\\xeer\\x9b\\xfb\\xdc\\xe8N\\xb7\\xba\\xd7\\xcd\\xeev\\xbb\\xfb\\xdd\\xf0\\x8e\\xb7\\xbc\\xe7M\\xefx\\x8b*^\\x98!\\x88\\xa3\\xf4\\x9d\\xef\\x93\\xdd[\\xc2\\xf5&J\\xc1\\x06\\x1e1\\x82\\x1b\\xa4\\xdf\\x01O\\xd9A\\x0c\\xfe7\\x86?,\\xb8\\t_\\xdb\\xc1\\x0bN\\xf1\\xbe\\xfd\\x1b\\xe0\\x11_\\xdc\\xc2+\\xdep\\x8e\\xdb\\x0b\\xe2\\x19\\xd7\\xf8\\xc48-\\xee\\xf1\\x91\\xff8\\xe4\\x02/\\xb9\\xea\\xe4\\xc5\\xf0\\x8f\\xa3<s\\x08\\xafW\\xcc\\xf7\\x8d\\xef\\x8f#\\xdcW/\\xcf\\xb9\\xcew\\xce\\xf3\\x9e\\xfb\\xfc\\xe7@\\x0f\\xba\\xd0\\x87N\\xf4\\xa2\\x1b\\xfd\\xe8H\\x0fv@\\x00\\x00;'\n"
          ]
        }
      ]
    },
    {
      "cell_type": "code",
      "source": [
        "Image(result)"
      ],
      "metadata": {
        "colab": {
          "base_uri": "https://localhost:8080/",
          "height": 129
        },
        "id": "ZMYXt5HG7e5i",
        "outputId": "29e6bfab-7dbf-409b-8fb7-d5130d43fd99"
      },
      "execution_count": 126,
      "outputs": [
        {
          "output_type": "execute_result",
          "data": {
            "text/plain": [
              "<IPython.core.display.Image object>"
            ],
            "image/png": "[encoded data removed]"
          },
          "metadata": {},
          "execution_count": 126
        }
      ]
    },
    {
      "cell_type": "code",
      "source": [
        "result = REST.kegg_find(\"pathway\", \"Fatty+acid+biosynthesis\").read()"
      ],
      "metadata": {
        "id": "ezi321656GJ0"
      },
      "execution_count": 118,
      "outputs": []
    },
    {
      "cell_type": "code",
      "source": [
        "print(result)"
      ],
      "metadata": {
        "colab": {
          "base_uri": "https://localhost:8080/"
        },
        "id": "AxKuRgQR6GCh",
        "outputId": "2cfa19fa-7d4c-4981-fd1e-1b620afdfb94"
      },
      "execution_count": 119,
      "outputs": [
        {
          "output_type": "stream",
          "name": "stdout",
          "text": [
            "path:map00061\tFatty acid biosynthesis\n",
            "path:map01040\tBiosynthesis of unsaturated fatty acids\n",
            "\n"
          ]
        }
      ]
    },
    {
      "cell_type": "code",
      "source": [
        "result = REST.kegg_get(\"map00061\", \"image\").read()"
      ],
      "metadata": {
        "id": "wZ17Agiq6F79"
      },
      "execution_count": 120,
      "outputs": []
    },
    {
      "cell_type": "code",
      "source": [
        "from IPython.display import Image"
      ],
      "metadata": {
        "id": "zWx9bFvs7OlE"
      },
      "execution_count": 123,
      "outputs": []
    },
    {
      "cell_type": "code",
      "source": [
        "Image(result)"
      ],
      "metadata": {
        "colab": {
          "base_uri": "https://localhost:8080/",
          "height": 1000
        },
        "id": "T2DwaVkc6F1h",
        "outputId": "c2308452-5542-45b0-dd70-101f6772a3a3"
      },
      "execution_count": 124,
      "outputs": [
        {
          "output_type": "execute_result",
          "data": {
            "text/plain": [
              "<IPython.core.display.Image object>"
            ],
            "image/png": "[encoded data removed]"
          },
          "metadata": {},
          "execution_count": 124
        }
      ]
    },
    {
      "cell_type": "code",
      "source": [
        "seqs = []\n",
        "with open('covHuman_10.fasta', 'r') as fasta_file:\n",
        "  for s in SeqIO.parse(fasta_file, 'fasta'):\n",
        "    seqs.append(s)"
      ],
      "metadata": {
        "id": "2LnbjwFcIP07"
      },
      "execution_count": null,
      "outputs": []
    },
    {
      "cell_type": "code",
      "source": [
        ""
      ],
      "metadata": {
        "colab": {
          "base_uri": "https://localhost:8080/"
        },
        "id": "OIxwTp9CgbB6",
        "outputId": "634853dd-e152-45f8-ba13-b039f2db4029"
      },
      "execution_count": null,
      "outputs": [
        {
          "output_type": "execute_result",
          "data": {
            "text/plain": [
              "SeqRecord(seq=Seq('AGGAACAAATACTTCTAACCAGGTTGCTGTTCTTTATCAGGATGTTAACTGCAC...CAT'), id='OP164535.1', name='OP164535.1', description='OP164535.1 Severe acute respiratory syndrome coronavirus 2 isolate SARS-CoV-2/human/IRQ/IQ-4 AL-Diwanyah/2021 surface glycoprotein (S) gene, partial cds', dbxrefs=[])"
            ]
          },
          "metadata": {},
          "execution_count": 8
        }
      ]
    },
    {
      "cell_type": "code",
      "source": [
        "seqs[0].seq.transcribe().translate()"
      ],
      "metadata": {
        "colab": {
          "base_uri": "https://localhost:8080/"
        },
        "id": "ldA3c1BQgK9W",
        "outputId": "15100f67-a5f2-49d6-f3f3-7c99bcf45f48"
      },
      "execution_count": null,
      "outputs": [
        {
          "output_type": "stream",
          "name": "stderr",
          "text": [
            "/usr/local/lib/python3.7/dist-packages/Bio/Seq.py:2983: BiopythonWarning: Partial codon, len(sequence) not a multiple of three. Explicitly trim the sequence or add trailing N before translation. This may become an error in future.\n",
            "  BiopythonWarning,\n"
          ]
        },
        {
          "output_type": "execute_result",
          "data": {
            "text/plain": [
              "Seq('RNKYF*PGCCSLSGC*LHRSPCCYSCRSTYSYLACLFYRF*CFSNTCRLFNRG*...QEV')"
            ]
          },
          "metadata": {},
          "execution_count": 14
        }
      ]
    },
    {
      "cell_type": "code",
      "source": [
        "from Bio.SeqUtils import GC"
      ],
      "metadata": {
        "id": "_dav1qATgOVu"
      },
      "execution_count": null,
      "outputs": []
    },
    {
      "cell_type": "code",
      "source": [
        "ids = []\n",
        "gcs = []\n",
        "for s in seqs:\n",
        "  ids.append(s.id)\n",
        "  gcs.append( GC(s.seq) )"
      ],
      "metadata": {
        "id": "G87xv_5WhcuZ"
      },
      "execution_count": null,
      "outputs": []
    },
    {
      "cell_type": "code",
      "source": [
        "ids"
      ],
      "metadata": {
        "colab": {
          "base_uri": "https://localhost:8080/"
        },
        "id": "IYK3FUahhewX",
        "outputId": "f153aa02-e12b-4ab8-ea6f-e7ac24c21e62"
      },
      "execution_count": null,
      "outputs": [
        {
          "output_type": "execute_result",
          "data": {
            "text/plain": [
              "['OP164535.1',\n",
              " 'OP164420.1',\n",
              " 'OP164419.1',\n",
              " 'OP164418.1',\n",
              " 'OP164417.1',\n",
              " 'OP164416.1',\n",
              " 'OP164415.1',\n",
              " 'OP164414.1',\n",
              " 'OP164413.1',\n",
              " 'OP164412.1']"
            ]
          },
          "metadata": {},
          "execution_count": 18
        }
      ]
    },
    {
      "cell_type": "code",
      "source": [
        "gcs"
      ],
      "metadata": {
        "colab": {
          "base_uri": "https://localhost:8080/"
        },
        "id": "NBLTGgLYh6DH",
        "outputId": "2d96862f-893d-4811-ee90-e11da9716141"
      },
      "execution_count": null,
      "outputs": [
        {
          "output_type": "execute_result",
          "data": {
            "text/plain": [
              "[38.15384615384615,\n",
              " 37.188565434041436,\n",
              " 37.16233936532914,\n",
              " 37.16233936532914,\n",
              " 37.16233936532914,\n",
              " 37.16233936532914,\n",
              " 37.16233936532914,\n",
              " 37.16233936532914,\n",
              " 37.16233936532914,\n",
              " 37.16233936532914]"
            ]
          },
          "metadata": {},
          "execution_count": 19
        }
      ]
    },
    {
      "cell_type": "code",
      "source": [
        "import matplotlib.pyplot as plt"
      ],
      "metadata": {
        "id": "fAGlsHmwh8Cq"
      },
      "execution_count": null,
      "outputs": []
    },
    {
      "cell_type": "code",
      "source": [
        "plt.bar(ids, gcs)\n",
        "plt.xticks(rotation = 45)\n",
        "plt.title('GC content (%)')\n",
        "plt.show()"
      ],
      "metadata": {
        "colab": {
          "base_uri": "https://localhost:8080/",
          "height": 322
        },
        "id": "m8QqHI07iDO0",
        "outputId": "002b9ba7-bb3a-456b-e4e6-45a8b0cdf349"
      },
      "execution_count": null,
      "outputs": [
        {
          "output_type": "display_data",
          "data": {
            "text/plain": [
              "<Figure size 432x288 with 1 Axes>"
            ],
            "image/png": "[encoded data removed]"
          },
          "metadata": {
            "needs_background": "light"
          }
        }
      ]
    },
    {
      "cell_type": "code",
      "source": [
        "!pip install jupyter-dash"
      ],
      "metadata": {
        "colab": {
          "base_uri": "https://localhost:8080/"
        },
        "id": "hzbmsdJdiLkM",
        "outputId": "cc2d5588-a953-4d5d-e4e1-bca1b65acc9d"
      },
      "execution_count": null,
      "outputs": [
        {
          "output_type": "stream",
          "name": "stdout",
          "text": [
            "Looking in indexes: https://pypi.org/simple, https://us-python.pkg.dev/colab-wheels/public/simple/\n",
            "Collecting jupyter-dash\n",
            "  Downloading jupyter_dash-0.4.2-py3-none-any.whl (23 kB)\n",
            "Collecting dash\n",
            "  Downloading dash-2.6.1-py3-none-any.whl (9.9 MB)\n",
            "\u001b[K     |████████████████████████████████| 9.9 MB 5.9 MB/s \n",
            "\u001b[?25hCollecting ansi2html\n",
            "  Downloading ansi2html-1.8.0-py3-none-any.whl (16 kB)\n",
            "Collecting retrying\n",
            "  Downloading retrying-1.3.3.tar.gz (10 kB)\n",
            "Requirement already satisfied: nest-asyncio in /usr/local/lib/python3.7/dist-packages (from jupyter-dash) (1.5.5)\n",
            "Requirement already satisfied: ipython in /usr/local/lib/python3.7/dist-packages (from jupyter-dash) (5.5.0)\n",
            "Requirement already satisfied: requests in /usr/local/lib/python3.7/dist-packages (from jupyter-dash) (2.23.0)\n",
            "Requirement already satisfied: ipykernel in /usr/local/lib/python3.7/dist-packages (from jupyter-dash) (4.10.1)\n",
            "Requirement already satisfied: flask in /usr/local/lib/python3.7/dist-packages (from jupyter-dash) (1.1.4)\n",
            "Requirement already satisfied: importlib-metadata in /usr/local/lib/python3.7/dist-packages (from ansi2html->jupyter-dash) (4.12.0)\n",
            "Collecting dash-table==5.0.0\n",
            "  Downloading dash_table-5.0.0-py3-none-any.whl (3.9 kB)\n",
            "Collecting dash-core-components==2.0.0\n",
            "  Downloading dash_core_components-2.0.0-py3-none-any.whl (3.8 kB)\n",
            "Collecting flask-compress\n",
            "  Downloading Flask_Compress-1.12-py3-none-any.whl (7.9 kB)\n",
            "Collecting dash-html-components==2.0.0\n",
            "  Downloading dash_html_components-2.0.0-py3-none-any.whl (4.1 kB)\n",
            "Requirement already satisfied: plotly>=5.0.0 in /usr/local/lib/python3.7/dist-packages (from dash->jupyter-dash) (5.5.0)\n",
            "Requirement already satisfied: Jinja2<3.0,>=2.10.1 in /usr/local/lib/python3.7/dist-packages (from flask->jupyter-dash) (2.11.3)\n",
            "Requirement already satisfied: click<8.0,>=5.1 in /usr/local/lib/python3.7/dist-packages (from flask->jupyter-dash) (7.1.2)\n",
            "Requirement already satisfied: itsdangerous<2.0,>=0.24 in /usr/local/lib/python3.7/dist-packages (from flask->jupyter-dash) (1.1.0)\n",
            "Requirement already satisfied: Werkzeug<2.0,>=0.15 in /usr/local/lib/python3.7/dist-packages (from flask->jupyter-dash) (1.0.1)\n",
            "Requirement already satisfied: MarkupSafe>=0.23 in /usr/local/lib/python3.7/dist-packages (from Jinja2<3.0,>=2.10.1->flask->jupyter-dash) (2.0.1)\n",
            "Requirement already satisfied: six in /usr/local/lib/python3.7/dist-packages (from plotly>=5.0.0->dash->jupyter-dash) (1.15.0)\n",
            "Requirement already satisfied: tenacity>=6.2.0 in /usr/local/lib/python3.7/dist-packages (from plotly>=5.0.0->dash->jupyter-dash) (8.0.1)\n",
            "Collecting brotli\n",
            "  Downloading Brotli-1.0.9-cp37-cp37m-manylinux1_x86_64.whl (357 kB)\n",
            "\u001b[K     |████████████████████████████████| 357 kB 56.8 MB/s \n",
            "\u001b[?25hRequirement already satisfied: zipp>=0.5 in /usr/local/lib/python3.7/dist-packages (from importlib-metadata->ansi2html->jupyter-dash) (3.8.1)\n",
            "Requirement already satisfied: typing-extensions>=3.6.4 in /usr/local/lib/python3.7/dist-packages (from importlib-metadata->ansi2html->jupyter-dash) (4.1.1)\n",
            "Requirement already satisfied: tornado>=4.0 in /usr/local/lib/python3.7/dist-packages (from ipykernel->jupyter-dash) (5.1.1)\n",
            "Requirement already satisfied: traitlets>=4.1.0 in /usr/local/lib/python3.7/dist-packages (from ipykernel->jupyter-dash) (5.1.1)\n",
            "Requirement already satisfied: jupyter-client in /usr/local/lib/python3.7/dist-packages (from ipykernel->jupyter-dash) (5.3.5)\n",
            "Requirement already satisfied: pexpect in /usr/local/lib/python3.7/dist-packages (from ipython->jupyter-dash) (4.8.0)\n",
            "Requirement already satisfied: pygments in /usr/local/lib/python3.7/dist-packages (from ipython->jupyter-dash) (2.6.1)\n",
            "Requirement already satisfied: prompt-toolkit<2.0.0,>=1.0.4 in /usr/local/lib/python3.7/dist-packages (from ipython->jupyter-dash) (1.0.18)\n",
            "Requirement already satisfied: setuptools>=18.5 in /usr/local/lib/python3.7/dist-packages (from ipython->jupyter-dash) (57.4.0)\n",
            "Requirement already satisfied: pickleshare in /usr/local/lib/python3.7/dist-packages (from ipython->jupyter-dash) (0.7.5)\n",
            "Requirement already satisfied: decorator in /usr/local/lib/python3.7/dist-packages (from ipython->jupyter-dash) (4.4.2)\n",
            "Requirement already satisfied: simplegeneric>0.8 in /usr/local/lib/python3.7/dist-packages (from ipython->jupyter-dash) (0.8.1)\n",
            "Requirement already satisfied: wcwidth in /usr/local/lib/python3.7/dist-packages (from prompt-toolkit<2.0.0,>=1.0.4->ipython->jupyter-dash) (0.2.5)\n",
            "Requirement already satisfied: pyzmq>=13 in /usr/local/lib/python3.7/dist-packages (from jupyter-client->ipykernel->jupyter-dash) (23.2.0)\n",
            "Requirement already satisfied: jupyter-core>=4.6.0 in /usr/local/lib/python3.7/dist-packages (from jupyter-client->ipykernel->jupyter-dash) (4.11.1)\n",
            "Requirement already satisfied: python-dateutil>=2.1 in /usr/local/lib/python3.7/dist-packages (from jupyter-client->ipykernel->jupyter-dash) (2.8.2)\n",
            "Requirement already satisfied: ptyprocess>=0.5 in /usr/local/lib/python3.7/dist-packages (from pexpect->ipython->jupyter-dash) (0.7.0)\n",
            "Requirement already satisfied: urllib3!=1.25.0,!=1.25.1,<1.26,>=1.21.1 in /usr/local/lib/python3.7/dist-packages (from requests->jupyter-dash) (1.24.3)\n",
            "Requirement already satisfied: certifi>=2017.4.17 in /usr/local/lib/python3.7/dist-packages (from requests->jupyter-dash) (2022.6.15)\n",
            "Requirement already satisfied: idna<3,>=2.5 in /usr/local/lib/python3.7/dist-packages (from requests->jupyter-dash) (2.10)\n",
            "Requirement already satisfied: chardet<4,>=3.0.2 in /usr/local/lib/python3.7/dist-packages (from requests->jupyter-dash) (3.0.4)\n",
            "Building wheels for collected packages: retrying\n",
            "  Building wheel for retrying (setup.py) ... \u001b[?25l\u001b[?25hdone\n",
            "  Created wheel for retrying: filename=retrying-1.3.3-py3-none-any.whl size=11447 sha256=80d784eddf0ed757b7432bacf5fe1457a2a8c6bff2f3845dd9852f82545af19a\n",
            "  Stored in directory: /root/.cache/pip/wheels/f9/8d/8d/f6af3f7f9eea3553bc2fe6d53e4b287dad18b06a861ac56ddf\n",
            "Successfully built retrying\n",
            "Installing collected packages: brotli, flask-compress, dash-table, dash-html-components, dash-core-components, retrying, dash, ansi2html, jupyter-dash\n",
            "Successfully installed ansi2html-1.8.0 brotli-1.0.9 dash-2.6.1 dash-core-components-2.0.0 dash-html-components-2.0.0 dash-table-5.0.0 flask-compress-1.12 jupyter-dash-0.4.2 retrying-1.3.3\n"
          ]
        }
      ]
    },
    {
      "cell_type": "code",
      "source": [
        "import plotly.express as px\n",
        "fig = px.bar(x=ids, y=gcs)\n",
        "fig.show()"
      ],
      "metadata": {
        "colab": {
          "base_uri": "https://localhost:8080/",
          "height": 542
        },
        "id": "FPNaYBH1kNwN",
        "outputId": "f30b0001-935d-422b-c7ce-7d3994d02f20"
      },
      "execution_count": null,
      "outputs": [
        {
          "output_type": "display_data",
          "data": {
            "text/html": [
              "<html>\n",
              "<head><meta charset=\"utf-8\" /></head>\n",
              "<body>\n",
              "    <div>            <script src=\"https://cdnjs.cloudflare.com/ajax/libs/mathjax/2.7.5/MathJax.js?config=TeX-AMS-MML_SVG\"></script><script type=\"text/javascript\">if (window.MathJax) {MathJax.Hub.Config({SVG: {font: \"STIX-Web\"}});}</script>                <script type=\"text/javascript\">window.PlotlyConfig = {MathJaxConfig: 'local'};</script>\n",
              "        <script src=\"https://cdn.plot.ly/plotly-2.8.3.min.js\"></script>                <div id=\"f6539a2c-6c49-4f2a-8ed3-828f6a9c4140\" class=\"plotly-graph-div\" style=\"height:525px; width:100%;\"></div>            <script type=\"text/javascript\">                                    window.PLOTLYENV=window.PLOTLYENV || {};                                    if (document.getElementById(\"f6539a2c-6c49-4f2a-8ed3-828f6a9c4140\")) {                    Plotly.newPlot(                        \"f6539a2c-6c49-4f2a-8ed3-828f6a9c4140\",                        [{\"alignmentgroup\":\"True\",\"hovertemplate\":\"x=%{x}<br>y=%{y}<extra></extra>\",\"legendgroup\":\"\",\"marker\":{\"color\":\"#636efa\",\"pattern\":{\"shape\":\"\"}},\"name\":\"\",\"offsetgroup\":\"\",\"orientation\":\"v\",\"showlegend\":false,\"textposition\":\"auto\",\"x\":[\"OP164535.1\",\"OP164420.1\",\"OP164419.1\",\"OP164418.1\",\"OP164417.1\",\"OP164416.1\",\"OP164415.1\",\"OP164414.1\",\"OP164413.1\",\"OP164412.1\"],\"xaxis\":\"x\",\"y\":[38.15384615384615,37.188565434041436,37.16233936532914,37.16233936532914,37.16233936532914,37.16233936532914,37.16233936532914,37.16233936532914,37.16233936532914,37.16233936532914],\"yaxis\":\"y\",\"type\":\"bar\"}],                        {\"template\":{\"data\":{\"bar\":[{\"error_x\":{\"color\":\"#2a3f5f\"},\"error_y\":{\"color\":\"#2a3f5f\"},\"marker\":{\"line\":{\"color\":\"#E5ECF6\",\"width\":0.5},\"pattern\":{\"fillmode\":\"overlay\",\"size\":10,\"solidity\":0.2}},\"type\":\"bar\"}],\"barpolar\":[{\"marker\":{\"line\":{\"color\":\"#E5ECF6\",\"width\":0.5},\"pattern\":{\"fillmode\":\"overlay\",\"size\":10,\"solidity\":0.2}},\"type\":\"barpolar\"}],\"carpet\":[{\"aaxis\":{\"endlinecolor\":\"#2a3f5f\",\"gridcolor\":\"white\",\"linecolor\":\"white\",\"minorgridcolor\":\"white\",\"startlinecolor\":\"#2a3f5f\"},\"baxis\":{\"endlinecolor\":\"#2a3f5f\",\"gridcolor\":\"white\",\"linecolor\":\"white\",\"minorgridcolor\":\"white\",\"startlinecolor\":\"#2a3f5f\"},\"type\":\"carpet\"}],\"choropleth\":[{\"colorbar\":{\"outlinewidth\":0,\"ticks\":\"\"},\"type\":\"choropleth\"}],\"contour\":[{\"colorbar\":{\"outlinewidth\":0,\"ticks\":\"\"},\"colorscale\":[[0.0,\"#0d0887\"],[0.1111111111111111,\"#46039f\"],[0.2222222222222222,\"#7201a8\"],[0.3333333333333333,\"#9c179e\"],[0.4444444444444444,\"#bd3786\"],[0.5555555555555556,\"#d8576b\"],[0.6666666666666666,\"#ed7953\"],[0.7777777777777778,\"#fb9f3a\"],[0.8888888888888888,\"#fdca26\"],[1.0,\"#f0f921\"]],\"type\":\"contour\"}],\"contourcarpet\":[{\"colorbar\":{\"outlinewidth\":0,\"ticks\":\"\"},\"type\":\"contourcarpet\"}],\"heatmap\":[{\"colorbar\":{\"outlinewidth\":0,\"ticks\":\"\"},\"colorscale\":[[0.0,\"#0d0887\"],[0.1111111111111111,\"#46039f\"],[0.2222222222222222,\"#7201a8\"],[0.3333333333333333,\"#9c179e\"],[0.4444444444444444,\"#bd3786\"],[0.5555555555555556,\"#d8576b\"],[0.6666666666666666,\"#ed7953\"],[0.7777777777777778,\"#fb9f3a\"],[0.8888888888888888,\"#fdca26\"],[1.0,\"#f0f921\"]],\"type\":\"heatmap\"}],\"heatmapgl\":[{\"colorbar\":{\"outlinewidth\":0,\"ticks\":\"\"},\"colorscale\":[[0.0,\"#0d0887\"],[0.1111111111111111,\"#46039f\"],[0.2222222222222222,\"#7201a8\"],[0.3333333333333333,\"#9c179e\"],[0.4444444444444444,\"#bd3786\"],[0.5555555555555556,\"#d8576b\"],[0.6666666666666666,\"#ed7953\"],[0.7777777777777778,\"#fb9f3a\"],[0.8888888888888888,\"#fdca26\"],[1.0,\"#f0f921\"]],\"type\":\"heatmapgl\"}],\"histogram\":[{\"marker\":{\"pattern\":{\"fillmode\":\"overlay\",\"size\":10,\"solidity\":0.2}},\"type\":\"histogram\"}],\"histogram2d\":[{\"colorbar\":{\"outlinewidth\":0,\"ticks\":\"\"},\"colorscale\":[[0.0,\"#0d0887\"],[0.1111111111111111,\"#46039f\"],[0.2222222222222222,\"#7201a8\"],[0.3333333333333333,\"#9c179e\"],[0.4444444444444444,\"#bd3786\"],[0.5555555555555556,\"#d8576b\"],[0.6666666666666666,\"#ed7953\"],[0.7777777777777778,\"#fb9f3a\"],[0.8888888888888888,\"#fdca26\"],[1.0,\"#f0f921\"]],\"type\":\"histogram2d\"}],\"histogram2dcontour\":[{\"colorbar\":{\"outlinewidth\":0,\"ticks\":\"\"},\"colorscale\":[[0.0,\"#0d0887\"],[0.1111111111111111,\"#46039f\"],[0.2222222222222222,\"#7201a8\"],[0.3333333333333333,\"#9c179e\"],[0.4444444444444444,\"#bd3786\"],[0.5555555555555556,\"#d8576b\"],[0.6666666666666666,\"#ed7953\"],[0.7777777777777778,\"#fb9f3a\"],[0.8888888888888888,\"#fdca26\"],[1.0,\"#f0f921\"]],\"type\":\"histogram2dcontour\"}],\"mesh3d\":[{\"colorbar\":{\"outlinewidth\":0,\"ticks\":\"\"},\"type\":\"mesh3d\"}],\"parcoords\":[{\"line\":{\"colorbar\":{\"outlinewidth\":0,\"ticks\":\"\"}},\"type\":\"parcoords\"}],\"pie\":[{\"automargin\":true,\"type\":\"pie\"}],\"scatter\":[{\"marker\":{\"colorbar\":{\"outlinewidth\":0,\"ticks\":\"\"}},\"type\":\"scatter\"}],\"scatter3d\":[{\"line\":{\"colorbar\":{\"outlinewidth\":0,\"ticks\":\"\"}},\"marker\":{\"colorbar\":{\"outlinewidth\":0,\"ticks\":\"\"}},\"type\":\"scatter3d\"}],\"scattercarpet\":[{\"marker\":{\"colorbar\":{\"outlinewidth\":0,\"ticks\":\"\"}},\"type\":\"scattercarpet\"}],\"scattergeo\":[{\"marker\":{\"colorbar\":{\"outlinewidth\":0,\"ticks\":\"\"}},\"type\":\"scattergeo\"}],\"scattergl\":[{\"marker\":{\"colorbar\":{\"outlinewidth\":0,\"ticks\":\"\"}},\"type\":\"scattergl\"}],\"scattermapbox\":[{\"marker\":{\"colorbar\":{\"outlinewidth\":0,\"ticks\":\"\"}},\"type\":\"scattermapbox\"}],\"scatterpolar\":[{\"marker\":{\"colorbar\":{\"outlinewidth\":0,\"ticks\":\"\"}},\"type\":\"scatterpolar\"}],\"scatterpolargl\":[{\"marker\":{\"colorbar\":{\"outlinewidth\":0,\"ticks\":\"\"}},\"type\":\"scatterpolargl\"}],\"scatterternary\":[{\"marker\":{\"colorbar\":{\"outlinewidth\":0,\"ticks\":\"\"}},\"type\":\"scatterternary\"}],\"surface\":[{\"colorbar\":{\"outlinewidth\":0,\"ticks\":\"\"},\"colorscale\":[[0.0,\"#0d0887\"],[0.1111111111111111,\"#46039f\"],[0.2222222222222222,\"#7201a8\"],[0.3333333333333333,\"#9c179e\"],[0.4444444444444444,\"#bd3786\"],[0.5555555555555556,\"#d8576b\"],[0.6666666666666666,\"#ed7953\"],[0.7777777777777778,\"#fb9f3a\"],[0.8888888888888888,\"#fdca26\"],[1.0,\"#f0f921\"]],\"type\":\"surface\"}],\"table\":[{\"cells\":{\"fill\":{\"color\":\"#EBF0F8\"},\"line\":{\"color\":\"white\"}},\"header\":{\"fill\":{\"color\":\"#C8D4E3\"},\"line\":{\"color\":\"white\"}},\"type\":\"table\"}]},\"layout\":{\"annotationdefaults\":{\"arrowcolor\":\"#2a3f5f\",\"arrowhead\":0,\"arrowwidth\":1},\"autotypenumbers\":\"strict\",\"coloraxis\":{\"colorbar\":{\"outlinewidth\":0,\"ticks\":\"\"}},\"colorscale\":{\"diverging\":[[0,\"#8e0152\"],[0.1,\"#c51b7d\"],[0.2,\"#de77ae\"],[0.3,\"#f1b6da\"],[0.4,\"#fde0ef\"],[0.5,\"#f7f7f7\"],[0.6,\"#e6f5d0\"],[0.7,\"#b8e186\"],[0.8,\"#7fbc41\"],[0.9,\"#4d9221\"],[1,\"#276419\"]],\"sequential\":[[0.0,\"#0d0887\"],[0.1111111111111111,\"#46039f\"],[0.2222222222222222,\"#7201a8\"],[0.3333333333333333,\"#9c179e\"],[0.4444444444444444,\"#bd3786\"],[0.5555555555555556,\"#d8576b\"],[0.6666666666666666,\"#ed7953\"],[0.7777777777777778,\"#fb9f3a\"],[0.8888888888888888,\"#fdca26\"],[1.0,\"#f0f921\"]],\"sequentialminus\":[[0.0,\"#0d0887\"],[0.1111111111111111,\"#46039f\"],[0.2222222222222222,\"#7201a8\"],[0.3333333333333333,\"#9c179e\"],[0.4444444444444444,\"#bd3786\"],[0.5555555555555556,\"#d8576b\"],[0.6666666666666666,\"#ed7953\"],[0.7777777777777778,\"#fb9f3a\"],[0.8888888888888888,\"#fdca26\"],[1.0,\"#f0f921\"]]},\"colorway\":[\"#636efa\",\"#EF553B\",\"#00cc96\",\"#ab63fa\",\"#FFA15A\",\"#19d3f3\",\"#FF6692\",\"#B6E880\",\"#FF97FF\",\"#FECB52\"],\"font\":{\"color\":\"#2a3f5f\"},\"geo\":{\"bgcolor\":\"white\",\"lakecolor\":\"white\",\"landcolor\":\"#E5ECF6\",\"showlakes\":true,\"showland\":true,\"subunitcolor\":\"white\"},\"hoverlabel\":{\"align\":\"left\"},\"hovermode\":\"closest\",\"mapbox\":{\"style\":\"light\"},\"paper_bgcolor\":\"white\",\"plot_bgcolor\":\"#E5ECF6\",\"polar\":{\"angularaxis\":{\"gridcolor\":\"white\",\"linecolor\":\"white\",\"ticks\":\"\"},\"bgcolor\":\"#E5ECF6\",\"radialaxis\":{\"gridcolor\":\"white\",\"linecolor\":\"white\",\"ticks\":\"\"}},\"scene\":{\"xaxis\":{\"backgroundcolor\":\"#E5ECF6\",\"gridcolor\":\"white\",\"gridwidth\":2,\"linecolor\":\"white\",\"showbackground\":true,\"ticks\":\"\",\"zerolinecolor\":\"white\"},\"yaxis\":{\"backgroundcolor\":\"#E5ECF6\",\"gridcolor\":\"white\",\"gridwidth\":2,\"linecolor\":\"white\",\"showbackground\":true,\"ticks\":\"\",\"zerolinecolor\":\"white\"},\"zaxis\":{\"backgroundcolor\":\"#E5ECF6\",\"gridcolor\":\"white\",\"gridwidth\":2,\"linecolor\":\"white\",\"showbackground\":true,\"ticks\":\"\",\"zerolinecolor\":\"white\"}},\"shapedefaults\":{\"line\":{\"color\":\"#2a3f5f\"}},\"ternary\":{\"aaxis\":{\"gridcolor\":\"white\",\"linecolor\":\"white\",\"ticks\":\"\"},\"baxis\":{\"gridcolor\":\"white\",\"linecolor\":\"white\",\"ticks\":\"\"},\"bgcolor\":\"#E5ECF6\",\"caxis\":{\"gridcolor\":\"white\",\"linecolor\":\"white\",\"ticks\":\"\"}},\"title\":{\"x\":0.05},\"xaxis\":{\"automargin\":true,\"gridcolor\":\"white\",\"linecolor\":\"white\",\"ticks\":\"\",\"title\":{\"standoff\":15},\"zerolinecolor\":\"white\",\"zerolinewidth\":2},\"yaxis\":{\"automargin\":true,\"gridcolor\":\"white\",\"linecolor\":\"white\",\"ticks\":\"\",\"title\":{\"standoff\":15},\"zerolinecolor\":\"white\",\"zerolinewidth\":2}}},\"xaxis\":{\"anchor\":\"y\",\"domain\":[0.0,1.0],\"title\":{\"text\":\"x\"}},\"yaxis\":{\"anchor\":\"x\",\"domain\":[0.0,1.0],\"title\":{\"text\":\"y\"}},\"legend\":{\"tracegroupgap\":0},\"margin\":{\"t\":60},\"barmode\":\"relative\"},                        {\"responsive\": true}                    ).then(function(){\n",
              "                            \n",
              "var gd = document.getElementById('f6539a2c-6c49-4f2a-8ed3-828f6a9c4140');\n",
              "var x = new MutationObserver(function (mutations, observer) {{\n",
              "        var display = window.getComputedStyle(gd).display;\n",
              "        if (!display || display === 'none') {{\n",
              "            console.log([gd, 'removed!']);\n",
              "            Plotly.purge(gd);\n",
              "            observer.disconnect();\n",
              "        }}\n",
              "}});\n",
              "\n",
              "// Listen for the removal of the full notebook cells\n",
              "var notebookContainer = gd.closest('#notebook-container');\n",
              "if (notebookContainer) {{\n",
              "    x.observe(notebookContainer, {childList: true});\n",
              "}}\n",
              "\n",
              "// Listen for the clearing of the current output cell\n",
              "var outputEl = gd.closest('.output');\n",
              "if (outputEl) {{\n",
              "    x.observe(outputEl, {childList: true});\n",
              "}}\n",
              "\n",
              "                        })                };                            </script>        </div>\n",
              "</body>\n",
              "</html>"
            ]
          },
          "metadata": {}
        }
      ]
    },
    {
      "cell_type": "code",
      "source": [
        "import pandas as pd"
      ],
      "metadata": {
        "id": "xuYV-4kVkU60"
      },
      "execution_count": null,
      "outputs": []
    },
    {
      "cell_type": "code",
      "source": [
        "df = pd.read_csv('data.csv')"
      ],
      "metadata": {
        "id": "bJ_bqMdcnDr2"
      },
      "execution_count": null,
      "outputs": []
    },
    {
      "cell_type": "code",
      "source": [
        "df.columns"
      ],
      "metadata": {
        "colab": {
          "base_uri": "https://localhost:8080/"
        },
        "id": "wz_swGoGnIHm",
        "outputId": "4ed097f8-f44d-4b59-bb77-a6b996b8b0d8"
      },
      "execution_count": null,
      "outputs": [
        {
          "output_type": "execute_result",
          "data": {
            "text/plain": [
              "Index(['id', 'diagnosis', 'radius_mean', 'texture_mean', 'perimeter_mean',\n",
              "       'area_mean', 'smoothness_mean', 'compactness_mean', 'concavity_mean',\n",
              "       'concave points_mean', 'symmetry_mean', 'fractal_dimension_mean',\n",
              "       'radius_se', 'texture_se', 'perimeter_se', 'area_se', 'smoothness_se',\n",
              "       'compactness_se', 'concavity_se', 'concave points_se', 'symmetry_se',\n",
              "       'fractal_dimension_se', 'radius_worst', 'texture_worst',\n",
              "       'perimeter_worst', 'area_worst', 'smoothness_worst',\n",
              "       'compactness_worst', 'concavity_worst', 'concave points_worst',\n",
              "       'symmetry_worst', 'fractal_dimension_worst', 'Unnamed: 32'],\n",
              "      dtype='object')"
            ]
          },
          "metadata": {},
          "execution_count": 61
        }
      ]
    },
    {
      "cell_type": "code",
      "source": [
        "X = df[['radius_mean', 'texture_mean']].values"
      ],
      "metadata": {
        "id": "6qCpNt3LpVIs"
      },
      "execution_count": null,
      "outputs": []
    },
    {
      "cell_type": "code",
      "source": [
        "X"
      ],
      "metadata": {
        "colab": {
          "base_uri": "https://localhost:8080/"
        },
        "id": "TZ3HZm2Dpkrk",
        "outputId": "513f54a8-bbf1-4772-a0e5-6c3bca9cf0ca"
      },
      "execution_count": null,
      "outputs": [
        {
          "output_type": "execute_result",
          "data": {
            "text/plain": [
              "array([[17.99, 10.38],\n",
              "       [20.57, 17.77],\n",
              "       [19.69, 21.25],\n",
              "       ...,\n",
              "       [16.6 , 28.08],\n",
              "       [20.6 , 29.33],\n",
              "       [ 7.76, 24.54]])"
            ]
          },
          "metadata": {},
          "execution_count": 51
        }
      ]
    },
    {
      "cell_type": "code",
      "source": [
        "import numpy as np\n",
        "from sklearn.decomposition import PCA\n",
        "# X = np.array([[-1, -1], [-2, -1], [-3, -2], [1, 1], [2, 1], [3, 2]])\n",
        "X = df[['radius_mean', 'texture_mean', 'compactness_mean', 'concave points_mean']].values\n",
        "pca = PCA(n_components=2)\n",
        "X_pca = pca.fit(X).transform(X)"
      ],
      "metadata": {
        "id": "89d_41tLnIos"
      },
      "execution_count": null,
      "outputs": []
    },
    {
      "cell_type": "code",
      "source": [
        "import seaborn as sns"
      ],
      "metadata": {
        "id": "dLaiKfIfn52o"
      },
      "execution_count": null,
      "outputs": []
    },
    {
      "cell_type": "code",
      "source": [
        ""
      ],
      "metadata": {
        "id": "C9dsk7zkolV0"
      },
      "execution_count": null,
      "outputs": []
    },
    {
      "cell_type": "code",
      "source": [
        "df_pc = pd.DataFrame(X_pca)"
      ],
      "metadata": {
        "id": "n5aAgA9XoyME"
      },
      "execution_count": null,
      "outputs": []
    },
    {
      "cell_type": "code",
      "source": [
        "df_pc['diagnosis'] = df['diagnosis']"
      ],
      "metadata": {
        "id": "ijP7aubfp_A1"
      },
      "execution_count": null,
      "outputs": []
    },
    {
      "cell_type": "code",
      "source": [
        "sns.scatterplot(x=0, y=1, data=df_pc, hue='diagnosis')"
      ],
      "metadata": {
        "colab": {
          "base_uri": "https://localhost:8080/",
          "height": 296
        },
        "id": "DuvmP8xpo4Bh",
        "outputId": "69caa032-bcb2-4db7-d650-20763aba4dff"
      },
      "execution_count": null,
      "outputs": [
        {
          "output_type": "execute_result",
          "data": {
            "text/plain": [
              "<matplotlib.axes._subplots.AxesSubplot at 0x7eff1f2fcf10>"
            ]
          },
          "metadata": {},
          "execution_count": 69
        },
        {
          "output_type": "display_data",
          "data": {
            "text/plain": [
              "<Figure size 432x288 with 1 Axes>"
            ],
            "image/png": "[encoded data removed]"
          },
          "metadata": {
            "needs_background": "light"
          }
        }
      ]
    },
    {
      "cell_type": "code",
      "source": [
        ""
      ],
      "metadata": {
        "id": "MdWuPSUDpDCP"
      },
      "execution_count": null,
      "outputs": []
    }
  ]
}