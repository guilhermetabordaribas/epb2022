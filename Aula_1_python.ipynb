{
  "nbformat": 4,
  "nbformat_minor": 0,
  "metadata": {
    "colab": {
      "name": "Aula_1_python.ipynb",
      "provenance": [],
      "collapsed_sections": []
    },
    "kernelspec": {
      "name": "python3",
      "display_name": "Python 3"
    },
    "language_info": {
      "name": "python"
    }
  },
  "cells": [
    {
      "cell_type": "markdown",
      "source": [
        "Conhencendo Python, scripts básicos"
      ],
      "metadata": {
        "id": "AeeaNsrJfnsb"
      }
    },
    {
      "cell_type": "code",
      "execution_count": 6,
      "metadata": {
        "colab": {
          "base_uri": "https://localhost:8080/"
        },
        "id": "OU2YDme5cXsR",
        "outputId": "ae402b2e-6c7c-4262-ae65-f5b54ac03139"
      },
      "outputs": [
        {
          "output_type": "stream",
          "name": "stdout",
          "text": [
            "Hello World!!+Bem-vindos a EPB. Hey\n"
          ]
        }
      ],
      "source": [
        "print(\"Hello World!!\", \"Bem-vindos a EPB.\", sep='+',  end=' ' )\n",
        "print(\"Hey\")"
      ]
    },
    {
      "cell_type": "code",
      "source": [
        "a = \"Hello World!!\""
      ],
      "metadata": {
        "id": "hZVln-6pdBGl"
      },
      "execution_count": 7,
      "outputs": []
    },
    {
      "cell_type": "code",
      "source": [
        "nome = input('Digite seu nome: ')"
      ],
      "metadata": {
        "colab": {
          "base_uri": "https://localhost:8080/"
        },
        "id": "xeCVdXcMeUn5",
        "outputId": "ae8efc9e-c511-4d47-d30c-0c65d4e4da32"
      },
      "execution_count": 13,
      "outputs": [
        {
          "name": "stdout",
          "output_type": "stream",
          "text": [
            "Digite seu nome: Guilherme\n"
          ]
        }
      ]
    },
    {
      "cell_type": "code",
      "source": [
        "idade = input(\"Qual a sua idade? \")"
      ],
      "metadata": {
        "colab": {
          "base_uri": "https://localhost:8080/"
        },
        "id": "kG3RPQdQf38V",
        "outputId": "3d3c074f-d19b-4de8-97f1-17377b3c1abf"
      },
      "execution_count": 17,
      "outputs": [
        {
          "name": "stdout",
          "output_type": "stream",
          "text": [
            "Qual a sua idade? 37\n"
          ]
        }
      ]
    },
    {
      "cell_type": "code",
      "source": [
        "print(\"Olá\",nome, \",\", idade, \"anos\")"
      ],
      "metadata": {
        "colab": {
          "base_uri": "https://localhost:8080/"
        },
        "id": "TgxIipx2eVkd",
        "outputId": "dfdedf78-aa6d-45ca-a773-fd6be7a65839"
      },
      "execution_count": 20,
      "outputs": [
        {
          "output_type": "stream",
          "name": "stdout",
          "text": [
            "Olá Guilherme , 37 anos\n"
          ]
        }
      ]
    },
    {
      "cell_type": "code",
      "source": [
        "entrada = \"Olá \" + nome + \", \" + idade + \" anos\""
      ],
      "metadata": {
        "id": "iHwq544ChTj6"
      },
      "execution_count": 27,
      "outputs": []
    },
    {
      "cell_type": "code",
      "source": [
        "print(entrada)"
      ],
      "metadata": {
        "colab": {
          "base_uri": "https://localhost:8080/"
        },
        "id": "-fNxYPkOhi8Q",
        "outputId": "2c37bb7b-3c74-4fd1-fa35-089d5c1da51a"
      },
      "execution_count": 34,
      "outputs": [
        {
          "output_type": "stream",
          "name": "stdout",
          "text": [
            "Olá Guilherme, 37 anos\n"
          ]
        }
      ]
    },
    {
      "cell_type": "code",
      "source": [
        "int(idade) + 3"
      ],
      "metadata": {
        "colab": {
          "base_uri": "https://localhost:8080/"
        },
        "id": "MbluVCYsglR1",
        "outputId": "a90c5261-4818-41c5-ae14-cdb69f85d1f3"
      },
      "execution_count": 36,
      "outputs": [
        {
          "output_type": "execute_result",
          "data": {
            "text/plain": [
              "40"
            ]
          },
          "metadata": {},
          "execution_count": 36
        }
      ]
    },
    {
      "cell_type": "code",
      "source": [
        "idade = int(idade)"
      ],
      "metadata": {
        "id": "U1XYQgkEi5M0"
      },
      "execution_count": 38,
      "outputs": []
    },
    {
      "cell_type": "code",
      "source": [
        "idade + 3"
      ],
      "metadata": {
        "colab": {
          "base_uri": "https://localhost:8080/"
        },
        "id": "sv14YkqheduK",
        "outputId": "070451e4-7489-491c-8679-65496d177300"
      },
      "execution_count": 40,
      "outputs": [
        {
          "output_type": "execute_result",
          "data": {
            "text/plain": [
              "40"
            ]
          },
          "metadata": {},
          "execution_count": 40
        }
      ]
    },
    {
      "cell_type": "markdown",
      "source": [
        "Exemplo input temperatura\n",
        "\n",
        "K = 273.15 + C\n",
        "\n",
        "F = C*9/5 + 32"
      ],
      "metadata": {
        "id": "DQ2pfHc5jWWZ"
      }
    },
    {
      "cell_type": "code",
      "source": [
        "tempC = input(\"Digite Temperatura em C: \")"
      ],
      "metadata": {
        "colab": {
          "base_uri": "https://localhost:8080/"
        },
        "id": "LJiNHWFjirBP",
        "outputId": "f6c4a2e2-1ce2-4568-bf5b-d9e296e0a67c"
      },
      "execution_count": 41,
      "outputs": [
        {
          "name": "stdout",
          "output_type": "stream",
          "text": [
            "Digite Temperatura em C: 30\n"
          ]
        }
      ]
    },
    {
      "cell_type": "code",
      "source": [
        "resultado = \"Temperatura: \" + tempC + \" *C\""
      ],
      "metadata": {
        "id": "NlqkG5UZjysP"
      },
      "execution_count": 45,
      "outputs": []
    },
    {
      "cell_type": "code",
      "source": [
        "print(resultado)"
      ],
      "metadata": {
        "colab": {
          "base_uri": "https://localhost:8080/"
        },
        "id": "2_WgzAG0j3xC",
        "outputId": "081c87bc-2679-46d6-b7ce-ab531d633395"
      },
      "execution_count": 46,
      "outputs": [
        {
          "output_type": "stream",
          "name": "stdout",
          "text": [
            "Temperatura: 30 *C\n"
          ]
        }
      ]
    },
    {
      "cell_type": "code",
      "source": [
        "tempK = 273.15 + float(tempC)"
      ],
      "metadata": {
        "id": "LbUq52cTkPyB"
      },
      "execution_count": 48,
      "outputs": []
    },
    {
      "cell_type": "code",
      "source": [
        "tempF = float(tempC)*9/5 + 32"
      ],
      "metadata": {
        "id": "BsZ0R5kckuco"
      },
      "execution_count": 55,
      "outputs": []
    },
    {
      "cell_type": "code",
      "source": [
        "tempF"
      ],
      "metadata": {
        "colab": {
          "base_uri": "https://localhost:8080/"
        },
        "id": "1TWjf549k49U",
        "outputId": "7297dc1b-1d51-453d-b353-0232d034b53a"
      },
      "execution_count": 56,
      "outputs": [
        {
          "output_type": "execute_result",
          "data": {
            "text/plain": [
              "86.0"
            ]
          },
          "metadata": {},
          "execution_count": 56
        }
      ]
    },
    {
      "cell_type": "markdown",
      "source": [
        "Exemplo MRU\n",
        "\n",
        "s = s_i + v_i * t + a/2*t ** 2"
      ],
      "metadata": {
        "id": "8dna1ECSmyR5"
      }
    },
    {
      "cell_type": "code",
      "source": [
        "a = 4\n",
        "s_i = 12\n",
        "v_i = 20"
      ],
      "metadata": {
        "id": "Zno3fRdklHug"
      },
      "execution_count": 66,
      "outputs": []
    },
    {
      "cell_type": "code",
      "source": [
        "t = float( input(\"tempo(s): \") )"
      ],
      "metadata": {
        "colab": {
          "base_uri": "https://localhost:8080/"
        },
        "id": "6fPAVZ-5mL7H",
        "outputId": "23dc5ca6-2e60-4677-9da5-6c63d6287f3d"
      },
      "execution_count": 62,
      "outputs": [
        {
          "name": "stdout",
          "output_type": "stream",
          "text": [
            "tempo(s): 30\n"
          ]
        }
      ]
    },
    {
      "cell_type": "code",
      "source": [
        "s = s_i + (v_i*t) + a*(t**2)/2"
      ],
      "metadata": {
        "id": "7XbFryT8mU3Y"
      },
      "execution_count": 67,
      "outputs": []
    },
    {
      "cell_type": "code",
      "source": [
        "print(\"Seu s final é:\", \"2\"+\"5\", \"m\")"
      ],
      "metadata": {
        "colab": {
          "base_uri": "https://localhost:8080/"
        },
        "id": "TLfvpxOCnogg",
        "outputId": "b9f4a4d7-4cb5-44be-8579-d0d7fbac4762"
      },
      "execution_count": 77,
      "outputs": [
        {
          "output_type": "stream",
          "name": "stdout",
          "text": [
            "Seu s final é: 25 m\n"
          ]
        }
      ]
    },
    {
      "cell_type": "code",
      "source": [
        "\"Seu s final é: \" + str(s) + \"m\""
      ],
      "metadata": {
        "colab": {
          "base_uri": "https://localhost:8080/",
          "height": 35
        },
        "id": "0Lq30eDjoKYj",
        "outputId": "18d0895e-6f57-461c-8af0-741ad4c58dce"
      },
      "execution_count": 74,
      "outputs": [
        {
          "output_type": "execute_result",
          "data": {
            "text/plain": [
              "'Seu s final é: 2412.0m'"
            ],
            "application/vnd.google.colaboratory.intrinsic+json": {
              "type": "string"
            }
          },
          "metadata": {},
          "execution_count": 74
        }
      ]
    },
    {
      "cell_type": "markdown",
      "source": [
        "Variáveis bool e condicionais\n",
        "\n",
        "A = Adenina\n",
        "\n",
        "C = Citosina\n",
        "\n",
        "G = Guanina\n",
        "\n",
        "T = Timina\n",
        "\n",
        "\n",
        "\n",
        "\n",
        "\n"
      ],
      "metadata": {
        "id": "QKuGIq5Nr5rn"
      }
    },
    {
      "cell_type": "code",
      "source": [
        "100 == 100\n",
        "100 > 101\n",
        "100 < 101\n",
        "100 >= 101\n",
        "100 <= 101\n",
        "100 != 100"
      ],
      "metadata": {
        "colab": {
          "base_uri": "https://localhost:8080/"
        },
        "id": "4IM7NKt9oqOm",
        "outputId": "43702816-a3f7-4eb8-d689-b66bb84cbd54"
      },
      "execution_count": 87,
      "outputs": [
        {
          "output_type": "execute_result",
          "data": {
            "text/plain": [
              "False"
            ]
          },
          "metadata": {},
          "execution_count": 87
        }
      ]
    },
    {
      "cell_type": "code",
      "source": [
        "base = input(\"Digite uma base:\")\n",
        "\n",
        "if (base == 'a') or (base == 'A'):\n",
        "  print(\"A base é uma Adenina!\")\n",
        "elif (base == 't') or (base == 'T'):\n",
        "  print(\"A base é uma Timina!\")\n",
        "elif (base == 'c') or (base == 'C'):\n",
        "  print(\"A base é uma Citosina!\")\n",
        "elif (base == 'g') or (base == 'G'):\n",
        "  print(\"A base é uma Guanina!\")\n",
        "else:\n",
        "  print(\"Outra base foi digitada!\")"
      ],
      "metadata": {
        "colab": {
          "base_uri": "https://localhost:8080/"
        },
        "id": "88ev1IpCsCiU",
        "outputId": "bc30e2c8-e505-4525-ca40-14a4b772af86"
      },
      "execution_count": 126,
      "outputs": [
        {
          "output_type": "stream",
          "name": "stdout",
          "text": [
            "Digite uma base:g\n",
            "A base é uma Guanina!\n"
          ]
        }
      ]
    },
    {
      "cell_type": "code",
      "source": [
        "base = input(\"Digite uma base:\").lower()\n",
        "\n",
        "if (base == 'a'):\n",
        "  print(\"A base é uma Adenina!\")\n",
        "elif (base == 't'):\n",
        "  print(\"A base é uma Timina!\")\n",
        "elif (base == 'c'):\n",
        "  print(\"A base é uma Citosina!\")\n",
        "elif (base == 'g'):\n",
        "  print(\"A base é uma Guanina!\")\n",
        "else:\n",
        "  print(\"Outra base foi digitada!\")"
      ],
      "metadata": {
        "colab": {
          "base_uri": "https://localhost:8080/"
        },
        "id": "GeiJtU0HtBj_",
        "outputId": "4ced32cd-caf4-4d32-ae9d-11051ae0a8b6"
      },
      "execution_count": 133,
      "outputs": [
        {
          "output_type": "stream",
          "name": "stdout",
          "text": [
            "Digite uma base:G\n",
            "A base é uma Guanina!\n"
          ]
        }
      ]
    },
    {
      "cell_type": "code",
      "source": [
        "temp = float ( input(\"Digite a temperatura da água em C: \") )\n",
        "atm  = input(\"Everest (e) ou nível do mar (m)\")\n",
        "\n",
        "if atm == 'm':\n",
        "\n",
        "  if temp > 100:\n",
        "    print('vapor')\n",
        "  elif temp < 0:\n",
        "    print('sólida')\n",
        "  else:\n",
        "    print('líquida')\n",
        "\n",
        "elif atm == 'e':\n",
        "\n",
        "  if temp > 72:\n",
        "    print('vapor')\n",
        "  elif temp < -28:\n",
        "    print('sólida')\n",
        "  else:\n",
        "    print('líquida')\n",
        "\n",
        "else:\n",
        "  print('Digite m ou e.')\n",
        "\n",
        "\n"
      ],
      "metadata": {
        "colab": {
          "base_uri": "https://localhost:8080/"
        },
        "id": "dE5b7gvT0PK1",
        "outputId": "79ec9140-4ebb-4107-b3cc-29d1c142a539"
      },
      "execution_count": 144,
      "outputs": [
        {
          "output_type": "stream",
          "name": "stdout",
          "text": [
            "Digite a temperatura da água em C: 100\n",
            "Everest (e) ou nível do mar (m)p\n",
            "Digite m ou e.\n"
          ]
        }
      ]
    },
    {
      "cell_type": "markdown",
      "source": [
        "Loops While e For"
      ],
      "metadata": {
        "id": "VtTxJLY33hwS"
      }
    },
    {
      "cell_type": "code",
      "source": [
        "i = True\n",
        "fita_p = ''\n",
        "comp = ''\n",
        "\n",
        "while i:\n",
        "  base = input(\"Digite uma base:\").lower()\n",
        "\n",
        "  if (base == 'a'):\n",
        "    print(\"A base é uma Adenina!\")\n",
        "    fita_p = fita_p + 'a'\n",
        "    comp = comp + 't'\n",
        "  elif (base == 't'):\n",
        "    print(\"A base é uma Timina!\")\n",
        "    fita_p = fita_p + 't'\n",
        "    comp = comp + 'a'\n",
        "  elif (base == 'c'):\n",
        "    print(\"A base é uma Citosina!\")\n",
        "    fita_p = fita_p + 'c'\n",
        "    comp = comp + 'g'\n",
        "  elif (base == 'g'):\n",
        "    print(\"A base é uma Guanina!\")\n",
        "    fita_p = fita_p + 'g'\n",
        "    comp = comp + 'c'\n",
        "  elif base == 'chega':\n",
        "    print('Saindo do programa')\n",
        "    i = False\n",
        "  else:\n",
        "    print(\"Outra base foi digitada!\")\n",
        "    comp = comp + 'N'\n",
        "    fita_p = fita_p + base\n",
        "\n",
        "print(\"Saímos do while!! yay\")\n",
        "\n",
        "print(\"A fita original é: \", fita_p)\n",
        "print(\"A fita complementar é: \", comp)"
      ],
      "metadata": {
        "colab": {
          "base_uri": "https://localhost:8080/"
        },
        "id": "MmiWS_Uh0MpJ",
        "outputId": "626648e7-d626-420c-d564-4e2bece64a48"
      },
      "execution_count": 154,
      "outputs": [
        {
          "output_type": "stream",
          "name": "stdout",
          "text": [
            "Digite uma base:a\n",
            "A base é uma Adenina!\n",
            "Digite uma base:g\n",
            "A base é uma Guanina!\n",
            "Digite uma base:c\n",
            "A base é uma Citosina!\n",
            "Digite uma base:j\n",
            "Outra base foi digitada!\n",
            "Digite uma base:t\n",
            "A base é uma Timina!\n",
            "Digite uma base:g\n",
            "A base é uma Guanina!\n",
            "Digite uma base:k\n",
            "Outra base foi digitada!\n",
            "Digite uma base:chega\n",
            "Saindo do programa\n",
            "Saímos do while!! yay\n",
            "A fita original é:  agcjtgk\n",
            "A fita complementar é:  tcgNacN\n"
          ]
        }
      ]
    },
    {
      "cell_type": "code",
      "source": [
        "c\n",
        "# str.lower('A')"
      ],
      "metadata": {
        "id": "qLomg9XmtDwI"
      },
      "execution_count": 135,
      "outputs": []
    },
    {
      "cell_type": "code",
      "source": [
        "# 'A'.lower()"
      ],
      "metadata": {
        "id": "2LcG3-dNztiF"
      },
      "execution_count": 136,
      "outputs": []
    },
    {
      "cell_type": "code",
      "source": [
        "('a' == 'a') or ('A' == 'A')"
      ],
      "metadata": {
        "colab": {
          "base_uri": "https://localhost:8080/"
        },
        "id": "4Hyh96-tu3yI",
        "outputId": "1604ac66-318b-4a35-e80f-37d4b74647ad"
      },
      "execution_count": 115,
      "outputs": [
        {
          "output_type": "execute_result",
          "data": {
            "text/plain": [
              "True"
            ]
          },
          "metadata": {},
          "execution_count": 115
        }
      ]
    },
    {
      "cell_type": "code",
      "source": [
        ""
      ],
      "metadata": {
        "id": "DbiipKS8vqTx"
      },
      "execution_count": 120,
      "outputs": []
    },
    {
      "cell_type": "code",
      "source": [
        ""
      ],
      "metadata": {
        "id": "1mtUgH8awgnn"
      },
      "execution_count": null,
      "outputs": []
    }
  ]
}